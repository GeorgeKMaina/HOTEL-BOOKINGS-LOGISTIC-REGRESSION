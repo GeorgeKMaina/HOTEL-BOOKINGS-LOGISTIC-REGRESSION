{
  "nbformat": 4,
  "nbformat_minor": 0,
  "metadata": {
    "kernelspec": {
      "display_name": "Python 3",
      "language": "python",
      "name": "python3"
    },
    "language_info": {
      "codemirror_mode": {
        "name": "ipython",
        "version": 3
      },
      "file_extension": ".py",
      "mimetype": "text/x-python",
      "name": "python",
      "nbconvert_exporter": "python",
      "pygments_lexer": "ipython3",
      "version": "3.7.4"
    },
    "colab": {
      "name": "hotel bookings analysis",
      "provenance": [],
      "include_colab_link": true
    }
  },
  "cells": [
    {
      "cell_type": "markdown",
      "metadata": {
        "id": "view-in-github",
        "colab_type": "text"
      },
      "source": [
        "<a href=\"https://colab.research.google.com/github/GeorgeKMaina/HOTEL-BOOKINGS-LOGISTIC-REGRESSION/blob/main/hotel_bookings_analysis.ipynb\" target=\"_parent\"><img src=\"https://colab.research.google.com/assets/colab-badge.svg\" alt=\"Open In Colab\"/></a>"
      ]
    },
    {
      "cell_type": "markdown",
      "metadata": {
        "id": "pjIPDvGnz0Jy"
      },
      "source": [
        "# HOTEL BOOKING ANALYSIS"
      ]
    },
    {
      "cell_type": "markdown",
      "metadata": {
        "id": "SxcKGURH_okE"
      },
      "source": [
        "- To predict if a booking will be cancelled or not"
      ]
    },
    {
      "cell_type": "markdown",
      "metadata": {
        "id": "Umr5L6Cu23IR"
      },
      "source": [
        "## IMPORTING LIBRARIES"
      ]
    },
    {
      "cell_type": "code",
      "metadata": {
        "id": "Oj4uakFXz0J5"
      },
      "source": [
        "#importing python libraries for data cleaning and manipulation\n",
        "import pandas as pd\n",
        "import numpy as np\n",
        "\n",
        "#importing python libraires for visualization\n",
        "import matplotlib.pyplot as plt\n",
        "import seaborn as sns\n",
        "\n",
        "#importing librbaires for feature selection\n",
        "from sklearn.discriminant_analysis import LinearDiscriminantAnalysis as LDA\n",
        "\n",
        "#importing python libraries for modeling\n",
        "from sklearn.linear_model import LogisticRegression\n",
        "from sklearn.model_selection import KFold\n",
        "from sklearn.model_selection import train_test_split\n",
        "\n",
        "# importing python libraries for transforming various columns\n",
        "from sklearn.preprocessing import LabelEncoder\n",
        "from sklearn.preprocessing import MinMaxScaler\n",
        "\n",
        "# importing python libraries for performance measure\n",
        "from sklearn.metrics import confusion_matrix"
      ],
      "execution_count": 1,
      "outputs": []
    },
    {
      "cell_type": "code",
      "metadata": {
        "id": "qO97ukbOz0J6"
      },
      "source": [
        "#loading the dataset\n",
        "hotelbookings=pd.read_csv('/content/hotel_bookings.csv')\n",
        "\n",
        "#create a copy of the dataset\n",
        "hotelbooking=hotelbookings.copy()"
      ],
      "execution_count": 2,
      "outputs": []
    },
    {
      "cell_type": "markdown",
      "metadata": {
        "id": "N0HijmBn7RaK"
      },
      "source": [
        "### PREVIEWING THE DATASET"
      ]
    },
    {
      "cell_type": "code",
      "metadata": {
        "colab": {
          "base_uri": "https://localhost:8080/",
          "height": 213
        },
        "id": "jG8Y5svL7WZU",
        "outputId": "b2ec413b-fdb9-4686-dee4-10492d8c4664"
      },
      "source": [
        "#looking at the the first three rows of the data\n",
        "hotelbookings.head(3)"
      ],
      "execution_count": 3,
      "outputs": [
        {
          "output_type": "execute_result",
          "data": {
            "text/html": [
              "<div>\n",
              "<style scoped>\n",
              "    .dataframe tbody tr th:only-of-type {\n",
              "        vertical-align: middle;\n",
              "    }\n",
              "\n",
              "    .dataframe tbody tr th {\n",
              "        vertical-align: top;\n",
              "    }\n",
              "\n",
              "    .dataframe thead th {\n",
              "        text-align: right;\n",
              "    }\n",
              "</style>\n",
              "<table border=\"1\" class=\"dataframe\">\n",
              "  <thead>\n",
              "    <tr style=\"text-align: right;\">\n",
              "      <th></th>\n",
              "      <th>hotel</th>\n",
              "      <th>is_canceled</th>\n",
              "      <th>lead_time</th>\n",
              "      <th>arrival_date_year</th>\n",
              "      <th>arrival_date_month</th>\n",
              "      <th>arrival_date_week_number</th>\n",
              "      <th>arrival_date_day_of_month</th>\n",
              "      <th>stays_in_weekend_nights</th>\n",
              "      <th>stays_in_week_nights</th>\n",
              "      <th>adults</th>\n",
              "      <th>children</th>\n",
              "      <th>babies</th>\n",
              "      <th>meal</th>\n",
              "      <th>country</th>\n",
              "      <th>market_segment</th>\n",
              "      <th>distribution_channel</th>\n",
              "      <th>is_repeated_guest</th>\n",
              "      <th>previous_cancellations</th>\n",
              "      <th>previous_bookings_not_canceled</th>\n",
              "      <th>reserved_room_type</th>\n",
              "      <th>assigned_room_type</th>\n",
              "      <th>booking_changes</th>\n",
              "      <th>deposit_type</th>\n",
              "      <th>agent</th>\n",
              "      <th>company</th>\n",
              "      <th>days_in_waiting_list</th>\n",
              "      <th>customer_type</th>\n",
              "      <th>adr</th>\n",
              "      <th>required_car_parking_spaces</th>\n",
              "      <th>total_of_special_requests</th>\n",
              "      <th>reservation_status</th>\n",
              "      <th>reservation_status_date</th>\n",
              "    </tr>\n",
              "  </thead>\n",
              "  <tbody>\n",
              "    <tr>\n",
              "      <th>0</th>\n",
              "      <td>Resort Hotel</td>\n",
              "      <td>0</td>\n",
              "      <td>342</td>\n",
              "      <td>2015</td>\n",
              "      <td>July</td>\n",
              "      <td>27</td>\n",
              "      <td>1</td>\n",
              "      <td>0</td>\n",
              "      <td>0</td>\n",
              "      <td>2</td>\n",
              "      <td>0.0</td>\n",
              "      <td>0</td>\n",
              "      <td>BB</td>\n",
              "      <td>PRT</td>\n",
              "      <td>Direct</td>\n",
              "      <td>Direct</td>\n",
              "      <td>0</td>\n",
              "      <td>0</td>\n",
              "      <td>0</td>\n",
              "      <td>C</td>\n",
              "      <td>C</td>\n",
              "      <td>3</td>\n",
              "      <td>No Deposit</td>\n",
              "      <td>NaN</td>\n",
              "      <td>NaN</td>\n",
              "      <td>0</td>\n",
              "      <td>Transient</td>\n",
              "      <td>0.0</td>\n",
              "      <td>0</td>\n",
              "      <td>0</td>\n",
              "      <td>Check-Out</td>\n",
              "      <td>2015-07-01</td>\n",
              "    </tr>\n",
              "    <tr>\n",
              "      <th>1</th>\n",
              "      <td>Resort Hotel</td>\n",
              "      <td>0</td>\n",
              "      <td>737</td>\n",
              "      <td>2015</td>\n",
              "      <td>July</td>\n",
              "      <td>27</td>\n",
              "      <td>1</td>\n",
              "      <td>0</td>\n",
              "      <td>0</td>\n",
              "      <td>2</td>\n",
              "      <td>0.0</td>\n",
              "      <td>0</td>\n",
              "      <td>BB</td>\n",
              "      <td>PRT</td>\n",
              "      <td>Direct</td>\n",
              "      <td>Direct</td>\n",
              "      <td>0</td>\n",
              "      <td>0</td>\n",
              "      <td>0</td>\n",
              "      <td>C</td>\n",
              "      <td>C</td>\n",
              "      <td>4</td>\n",
              "      <td>No Deposit</td>\n",
              "      <td>NaN</td>\n",
              "      <td>NaN</td>\n",
              "      <td>0</td>\n",
              "      <td>Transient</td>\n",
              "      <td>0.0</td>\n",
              "      <td>0</td>\n",
              "      <td>0</td>\n",
              "      <td>Check-Out</td>\n",
              "      <td>2015-07-01</td>\n",
              "    </tr>\n",
              "    <tr>\n",
              "      <th>2</th>\n",
              "      <td>Resort Hotel</td>\n",
              "      <td>0</td>\n",
              "      <td>7</td>\n",
              "      <td>2015</td>\n",
              "      <td>July</td>\n",
              "      <td>27</td>\n",
              "      <td>1</td>\n",
              "      <td>0</td>\n",
              "      <td>1</td>\n",
              "      <td>1</td>\n",
              "      <td>0.0</td>\n",
              "      <td>0</td>\n",
              "      <td>BB</td>\n",
              "      <td>GBR</td>\n",
              "      <td>Direct</td>\n",
              "      <td>Direct</td>\n",
              "      <td>0</td>\n",
              "      <td>0</td>\n",
              "      <td>0</td>\n",
              "      <td>A</td>\n",
              "      <td>C</td>\n",
              "      <td>0</td>\n",
              "      <td>No Deposit</td>\n",
              "      <td>NaN</td>\n",
              "      <td>NaN</td>\n",
              "      <td>0</td>\n",
              "      <td>Transient</td>\n",
              "      <td>75.0</td>\n",
              "      <td>0</td>\n",
              "      <td>0</td>\n",
              "      <td>Check-Out</td>\n",
              "      <td>2015-07-02</td>\n",
              "    </tr>\n",
              "  </tbody>\n",
              "</table>\n",
              "</div>"
            ],
            "text/plain": [
              "          hotel  is_canceled  ...  reservation_status  reservation_status_date\n",
              "0  Resort Hotel            0  ...           Check-Out               2015-07-01\n",
              "1  Resort Hotel            0  ...           Check-Out               2015-07-01\n",
              "2  Resort Hotel            0  ...           Check-Out               2015-07-02\n",
              "\n",
              "[3 rows x 32 columns]"
            ]
          },
          "metadata": {
            "tags": []
          },
          "execution_count": 3
        }
      ]
    },
    {
      "cell_type": "code",
      "metadata": {
        "colab": {
          "base_uri": "https://localhost:8080/",
          "height": 213
        },
        "id": "kVlMhLVl7ZK8",
        "outputId": "ad5c8d74-c350-44bf-9479-ec6d7ef7ff14"
      },
      "source": [
        "#looking at the the first three rows of the data\n",
        "hotelbookings.tail(3)"
      ],
      "execution_count": 4,
      "outputs": [
        {
          "output_type": "execute_result",
          "data": {
            "text/html": [
              "<div>\n",
              "<style scoped>\n",
              "    .dataframe tbody tr th:only-of-type {\n",
              "        vertical-align: middle;\n",
              "    }\n",
              "\n",
              "    .dataframe tbody tr th {\n",
              "        vertical-align: top;\n",
              "    }\n",
              "\n",
              "    .dataframe thead th {\n",
              "        text-align: right;\n",
              "    }\n",
              "</style>\n",
              "<table border=\"1\" class=\"dataframe\">\n",
              "  <thead>\n",
              "    <tr style=\"text-align: right;\">\n",
              "      <th></th>\n",
              "      <th>hotel</th>\n",
              "      <th>is_canceled</th>\n",
              "      <th>lead_time</th>\n",
              "      <th>arrival_date_year</th>\n",
              "      <th>arrival_date_month</th>\n",
              "      <th>arrival_date_week_number</th>\n",
              "      <th>arrival_date_day_of_month</th>\n",
              "      <th>stays_in_weekend_nights</th>\n",
              "      <th>stays_in_week_nights</th>\n",
              "      <th>adults</th>\n",
              "      <th>children</th>\n",
              "      <th>babies</th>\n",
              "      <th>meal</th>\n",
              "      <th>country</th>\n",
              "      <th>market_segment</th>\n",
              "      <th>distribution_channel</th>\n",
              "      <th>is_repeated_guest</th>\n",
              "      <th>previous_cancellations</th>\n",
              "      <th>previous_bookings_not_canceled</th>\n",
              "      <th>reserved_room_type</th>\n",
              "      <th>assigned_room_type</th>\n",
              "      <th>booking_changes</th>\n",
              "      <th>deposit_type</th>\n",
              "      <th>agent</th>\n",
              "      <th>company</th>\n",
              "      <th>days_in_waiting_list</th>\n",
              "      <th>customer_type</th>\n",
              "      <th>adr</th>\n",
              "      <th>required_car_parking_spaces</th>\n",
              "      <th>total_of_special_requests</th>\n",
              "      <th>reservation_status</th>\n",
              "      <th>reservation_status_date</th>\n",
              "    </tr>\n",
              "  </thead>\n",
              "  <tbody>\n",
              "    <tr>\n",
              "      <th>119387</th>\n",
              "      <td>City Hotel</td>\n",
              "      <td>0</td>\n",
              "      <td>34</td>\n",
              "      <td>2017</td>\n",
              "      <td>August</td>\n",
              "      <td>35</td>\n",
              "      <td>31</td>\n",
              "      <td>2</td>\n",
              "      <td>5</td>\n",
              "      <td>2</td>\n",
              "      <td>0.0</td>\n",
              "      <td>0</td>\n",
              "      <td>BB</td>\n",
              "      <td>DEU</td>\n",
              "      <td>Online TA</td>\n",
              "      <td>TA/TO</td>\n",
              "      <td>0</td>\n",
              "      <td>0</td>\n",
              "      <td>0</td>\n",
              "      <td>D</td>\n",
              "      <td>D</td>\n",
              "      <td>0</td>\n",
              "      <td>No Deposit</td>\n",
              "      <td>9.0</td>\n",
              "      <td>NaN</td>\n",
              "      <td>0</td>\n",
              "      <td>Transient</td>\n",
              "      <td>157.71</td>\n",
              "      <td>0</td>\n",
              "      <td>4</td>\n",
              "      <td>Check-Out</td>\n",
              "      <td>2017-09-07</td>\n",
              "    </tr>\n",
              "    <tr>\n",
              "      <th>119388</th>\n",
              "      <td>City Hotel</td>\n",
              "      <td>0</td>\n",
              "      <td>109</td>\n",
              "      <td>2017</td>\n",
              "      <td>August</td>\n",
              "      <td>35</td>\n",
              "      <td>31</td>\n",
              "      <td>2</td>\n",
              "      <td>5</td>\n",
              "      <td>2</td>\n",
              "      <td>0.0</td>\n",
              "      <td>0</td>\n",
              "      <td>BB</td>\n",
              "      <td>GBR</td>\n",
              "      <td>Online TA</td>\n",
              "      <td>TA/TO</td>\n",
              "      <td>0</td>\n",
              "      <td>0</td>\n",
              "      <td>0</td>\n",
              "      <td>A</td>\n",
              "      <td>A</td>\n",
              "      <td>0</td>\n",
              "      <td>No Deposit</td>\n",
              "      <td>89.0</td>\n",
              "      <td>NaN</td>\n",
              "      <td>0</td>\n",
              "      <td>Transient</td>\n",
              "      <td>104.40</td>\n",
              "      <td>0</td>\n",
              "      <td>0</td>\n",
              "      <td>Check-Out</td>\n",
              "      <td>2017-09-07</td>\n",
              "    </tr>\n",
              "    <tr>\n",
              "      <th>119389</th>\n",
              "      <td>City Hotel</td>\n",
              "      <td>0</td>\n",
              "      <td>205</td>\n",
              "      <td>2017</td>\n",
              "      <td>August</td>\n",
              "      <td>35</td>\n",
              "      <td>29</td>\n",
              "      <td>2</td>\n",
              "      <td>7</td>\n",
              "      <td>2</td>\n",
              "      <td>0.0</td>\n",
              "      <td>0</td>\n",
              "      <td>HB</td>\n",
              "      <td>DEU</td>\n",
              "      <td>Online TA</td>\n",
              "      <td>TA/TO</td>\n",
              "      <td>0</td>\n",
              "      <td>0</td>\n",
              "      <td>0</td>\n",
              "      <td>A</td>\n",
              "      <td>A</td>\n",
              "      <td>0</td>\n",
              "      <td>No Deposit</td>\n",
              "      <td>9.0</td>\n",
              "      <td>NaN</td>\n",
              "      <td>0</td>\n",
              "      <td>Transient</td>\n",
              "      <td>151.20</td>\n",
              "      <td>0</td>\n",
              "      <td>2</td>\n",
              "      <td>Check-Out</td>\n",
              "      <td>2017-09-07</td>\n",
              "    </tr>\n",
              "  </tbody>\n",
              "</table>\n",
              "</div>"
            ],
            "text/plain": [
              "             hotel  is_canceled  ...  reservation_status  reservation_status_date\n",
              "119387  City Hotel            0  ...           Check-Out               2017-09-07\n",
              "119388  City Hotel            0  ...           Check-Out               2017-09-07\n",
              "119389  City Hotel            0  ...           Check-Out               2017-09-07\n",
              "\n",
              "[3 rows x 32 columns]"
            ]
          },
          "metadata": {
            "tags": []
          },
          "execution_count": 4
        }
      ]
    },
    {
      "cell_type": "code",
      "metadata": {
        "id": "509aLeH2z0J8",
        "colab": {
          "base_uri": "https://localhost:8080/"
        },
        "outputId": "7681a7e2-f98f-4f7f-d029-23324112ccce"
      },
      "source": [
        "#having a look at the attributes of the data\n",
        "print('shape of the dataset: ',hotelbookings.shape)\n",
        "print('size of the daatset: ',hotelbookings.size)\n",
        "print('dimensions of the dataset: ',hotelbookings.ndim)"
      ],
      "execution_count": 5,
      "outputs": [
        {
          "output_type": "stream",
          "text": [
            "shape of the dataset:  (119390, 32)\n",
            "size of the daatset:  3820480\n",
            "dimensions of the dataset:  2\n"
          ],
          "name": "stdout"
        }
      ]
    },
    {
      "cell_type": "code",
      "metadata": {
        "id": "6V26RAcJz0J9",
        "colab": {
          "base_uri": "https://localhost:8080/"
        },
        "outputId": "0ea65a5b-25c3-4c83-b2ea-9bf45af5b5bb"
      },
      "source": [
        "# lookin at the info of the data\n",
        "print('looking at the number of records in the columns and the data types of the columns\\n')\n",
        "hotelbookings.info()"
      ],
      "execution_count": 6,
      "outputs": [
        {
          "output_type": "stream",
          "text": [
            "looking at the number of records in the columns and the data types of the columns\n",
            "\n",
            "<class 'pandas.core.frame.DataFrame'>\n",
            "RangeIndex: 119390 entries, 0 to 119389\n",
            "Data columns (total 32 columns):\n",
            " #   Column                          Non-Null Count   Dtype  \n",
            "---  ------                          --------------   -----  \n",
            " 0   hotel                           119390 non-null  object \n",
            " 1   is_canceled                     119390 non-null  int64  \n",
            " 2   lead_time                       119390 non-null  int64  \n",
            " 3   arrival_date_year               119390 non-null  int64  \n",
            " 4   arrival_date_month              119390 non-null  object \n",
            " 5   arrival_date_week_number        119390 non-null  int64  \n",
            " 6   arrival_date_day_of_month       119390 non-null  int64  \n",
            " 7   stays_in_weekend_nights         119390 non-null  int64  \n",
            " 8   stays_in_week_nights            119390 non-null  int64  \n",
            " 9   adults                          119390 non-null  int64  \n",
            " 10  children                        119386 non-null  float64\n",
            " 11  babies                          119390 non-null  int64  \n",
            " 12  meal                            119390 non-null  object \n",
            " 13  country                         118902 non-null  object \n",
            " 14  market_segment                  119390 non-null  object \n",
            " 15  distribution_channel            119390 non-null  object \n",
            " 16  is_repeated_guest               119390 non-null  int64  \n",
            " 17  previous_cancellations          119390 non-null  int64  \n",
            " 18  previous_bookings_not_canceled  119390 non-null  int64  \n",
            " 19  reserved_room_type              119390 non-null  object \n",
            " 20  assigned_room_type              119390 non-null  object \n",
            " 21  booking_changes                 119390 non-null  int64  \n",
            " 22  deposit_type                    119390 non-null  object \n",
            " 23  agent                           103050 non-null  float64\n",
            " 24  company                         6797 non-null    float64\n",
            " 25  days_in_waiting_list            119390 non-null  int64  \n",
            " 26  customer_type                   119390 non-null  object \n",
            " 27  adr                             119390 non-null  float64\n",
            " 28  required_car_parking_spaces     119390 non-null  int64  \n",
            " 29  total_of_special_requests       119390 non-null  int64  \n",
            " 30  reservation_status              119390 non-null  object \n",
            " 31  reservation_status_date         119390 non-null  object \n",
            "dtypes: float64(4), int64(16), object(12)\n",
            "memory usage: 29.1+ MB\n"
          ],
          "name": "stdout"
        }
      ]
    },
    {
      "cell_type": "markdown",
      "metadata": {
        "id": "vTks4Y0vz0J-"
      },
      "source": [
        "### Data Cleaning"
      ]
    },
    {
      "cell_type": "markdown",
      "metadata": {
        "id": "8w5J3W_Oz0J-"
      },
      "source": [
        "###### 1. Consistency"
      ]
    },
    {
      "cell_type": "code",
      "metadata": {
        "id": "L_J6FmFdz0J_",
        "colab": {
          "base_uri": "https://localhost:8080/"
        },
        "outputId": "b08f2f18-b7fd-4732-aff0-248ceeaed2cf"
      },
      "source": [
        "print('number of duplicate rows: ',hotelbookings.duplicated().sum())\n",
        "print('shape of the original dataset: ',hotelbookings.shape)\n",
        "print('shape of the dataset after droping duplicate rows: ', hotelbookings.drop_duplicates(keep='first').shape)"
      ],
      "execution_count": 7,
      "outputs": [
        {
          "output_type": "stream",
          "text": [
            "number of duplicate rows:  31994\n",
            "shape of the original dataset:  (119390, 32)\n",
            "shape of the dataset after droping duplicate rows:  (87396, 32)\n"
          ],
          "name": "stdout"
        }
      ]
    },
    {
      "cell_type": "markdown",
      "metadata": {
        "id": "7JjxvNrez0KA"
      },
      "source": [
        "###### 2. Completeness"
      ]
    },
    {
      "cell_type": "code",
      "metadata": {
        "id": "UWveIDEIz0KA",
        "colab": {
          "base_uri": "https://localhost:8080/",
          "height": 0
        },
        "outputId": "f2df2f3a-273d-4059-c92e-5cbcc21b30ec"
      },
      "source": [
        "#we will look for columns with missing values\n",
        "missing=hotelbookings.isna().sum()\n",
        "missing=missing[missing!=0]\n",
        "print('number of columns with missing values: ', len(missing))\n",
        "\n",
        "# percentage of missing values in the columns\n",
        "perc=missing/len(hotelbookings)*100\n",
        "missing_perc=pd.concat([missing,perc],axis=1)\n",
        "missing_perc.rename(columns={0:'number of missing values in the column',1:'percentage of missing values in the column'},inplace=True)\n",
        "missing_perc.sort_values(by='percentage of missing values in the column',ascending=False)"
      ],
      "execution_count": 8,
      "outputs": [
        {
          "output_type": "stream",
          "text": [
            "number of columns with missing values:  4\n"
          ],
          "name": "stdout"
        },
        {
          "output_type": "execute_result",
          "data": {
            "text/html": [
              "<div>\n",
              "<style scoped>\n",
              "    .dataframe tbody tr th:only-of-type {\n",
              "        vertical-align: middle;\n",
              "    }\n",
              "\n",
              "    .dataframe tbody tr th {\n",
              "        vertical-align: top;\n",
              "    }\n",
              "\n",
              "    .dataframe thead th {\n",
              "        text-align: right;\n",
              "    }\n",
              "</style>\n",
              "<table border=\"1\" class=\"dataframe\">\n",
              "  <thead>\n",
              "    <tr style=\"text-align: right;\">\n",
              "      <th></th>\n",
              "      <th>number of missing values in the column</th>\n",
              "      <th>percentage of missing values in the column</th>\n",
              "    </tr>\n",
              "  </thead>\n",
              "  <tbody>\n",
              "    <tr>\n",
              "      <th>company</th>\n",
              "      <td>112593</td>\n",
              "      <td>94.306893</td>\n",
              "    </tr>\n",
              "    <tr>\n",
              "      <th>agent</th>\n",
              "      <td>16340</td>\n",
              "      <td>13.686238</td>\n",
              "    </tr>\n",
              "    <tr>\n",
              "      <th>country</th>\n",
              "      <td>488</td>\n",
              "      <td>0.408744</td>\n",
              "    </tr>\n",
              "    <tr>\n",
              "      <th>children</th>\n",
              "      <td>4</td>\n",
              "      <td>0.003350</td>\n",
              "    </tr>\n",
              "  </tbody>\n",
              "</table>\n",
              "</div>"
            ],
            "text/plain": [
              "          number of missing values in the column  percentage of missing values in the column\n",
              "company                                   112593                                   94.306893\n",
              "agent                                      16340                                   13.686238\n",
              "country                                      488                                    0.408744\n",
              "children                                       4                                    0.003350"
            ]
          },
          "metadata": {
            "tags": []
          },
          "execution_count": 8
        }
      ]
    },
    {
      "cell_type": "markdown",
      "metadata": {
        "id": "7jEWCR7mz0KB"
      },
      "source": [
        "##### dealing with missing values"
      ]
    },
    {
      "cell_type": "code",
      "metadata": {
        "id": "7nIaLCs1z0KC",
        "colab": {
          "base_uri": "https://localhost:8080/"
        },
        "outputId": "60fa40a1-f671-4bb8-ac26-11f5c9eb1141"
      },
      "source": [
        "#we will drop the columns company because they have a lot of missing values\n",
        "hotelbookings.drop(['company'],axis=1,inplace=True)\n",
        "\n",
        "#to confirm if the column was drooped\n",
        "hotelbookings.columns"
      ],
      "execution_count": 9,
      "outputs": [
        {
          "output_type": "execute_result",
          "data": {
            "text/plain": [
              "Index(['hotel', 'is_canceled', 'lead_time', 'arrival_date_year',\n",
              "       'arrival_date_month', 'arrival_date_week_number',\n",
              "       'arrival_date_day_of_month', 'stays_in_weekend_nights',\n",
              "       'stays_in_week_nights', 'adults', 'children', 'babies', 'meal',\n",
              "       'country', 'market_segment', 'distribution_channel',\n",
              "       'is_repeated_guest', 'previous_cancellations',\n",
              "       'previous_bookings_not_canceled', 'reserved_room_type',\n",
              "       'assigned_room_type', 'booking_changes', 'deposit_type', 'agent',\n",
              "       'days_in_waiting_list', 'customer_type', 'adr',\n",
              "       'required_car_parking_spaces', 'total_of_special_requests',\n",
              "       'reservation_status', 'reservation_status_date'],\n",
              "      dtype='object')"
            ]
          },
          "metadata": {
            "tags": []
          },
          "execution_count": 9
        }
      ]
    },
    {
      "cell_type": "code",
      "metadata": {
        "id": "WDY_A4VIz0KD"
      },
      "source": [
        "# for the column country, we will fill the missing values with those of the most repeated country in that column\n",
        "from scipy.stats import mode\n",
        "hotelbookings['country'].fillna(mode(hotelbookings['country']).mode[0],inplace=True)\n",
        "#for the column agent,we will fill it using bboth backward and forward fill\n",
        "hotelbookings['agent'].fillna(method='bfill',inplace=True)\n",
        "#for the column children, we will fill the missing values with the mean of that column\n",
        "hotelbookings['children'].fillna(np.mean(hotelbookings['children']),inplace=True)"
      ],
      "execution_count": 10,
      "outputs": []
    },
    {
      "cell_type": "code",
      "metadata": {
        "id": "m4pXI7N3z0KD",
        "colab": {
          "base_uri": "https://localhost:8080/"
        },
        "outputId": "5a9349ec-5402-465a-93ca-9784d8ea25e7"
      },
      "source": [
        "# to confirm if we have dropped and filled the misising values\n",
        "hotelbookings.isna().sum()"
      ],
      "execution_count": 11,
      "outputs": [
        {
          "output_type": "execute_result",
          "data": {
            "text/plain": [
              "hotel                             0\n",
              "is_canceled                       0\n",
              "lead_time                         0\n",
              "arrival_date_year                 0\n",
              "arrival_date_month                0\n",
              "arrival_date_week_number          0\n",
              "arrival_date_day_of_month         0\n",
              "stays_in_weekend_nights           0\n",
              "stays_in_week_nights              0\n",
              "adults                            0\n",
              "children                          0\n",
              "babies                            0\n",
              "meal                              0\n",
              "country                           0\n",
              "market_segment                    0\n",
              "distribution_channel              0\n",
              "is_repeated_guest                 0\n",
              "previous_cancellations            0\n",
              "previous_bookings_not_canceled    0\n",
              "reserved_room_type                0\n",
              "assigned_room_type                0\n",
              "booking_changes                   0\n",
              "deposit_type                      0\n",
              "agent                             0\n",
              "days_in_waiting_list              0\n",
              "customer_type                     0\n",
              "adr                               0\n",
              "required_car_parking_spaces       0\n",
              "total_of_special_requests         0\n",
              "reservation_status                0\n",
              "reservation_status_date           0\n",
              "dtype: int64"
            ]
          },
          "metadata": {
            "tags": []
          },
          "execution_count": 11
        }
      ]
    },
    {
      "cell_type": "markdown",
      "metadata": {
        "id": "8lCKmsVwz0KE"
      },
      "source": [
        "###### 3. Uniformity and Validity"
      ]
    },
    {
      "cell_type": "code",
      "metadata": {
        "id": "Jkkc30NXz0KE",
        "colab": {
          "base_uri": "https://localhost:8080/"
        },
        "outputId": "342207c1-d6a1-4d16-f0d5-3352fcdd16ec"
      },
      "source": [
        "#removing whitespaces if there are any\n",
        "hotelbookings.columns.str.strip()"
      ],
      "execution_count": 12,
      "outputs": [
        {
          "output_type": "execute_result",
          "data": {
            "text/plain": [
              "Index(['hotel', 'is_canceled', 'lead_time', 'arrival_date_year',\n",
              "       'arrival_date_month', 'arrival_date_week_number',\n",
              "       'arrival_date_day_of_month', 'stays_in_weekend_nights',\n",
              "       'stays_in_week_nights', 'adults', 'children', 'babies', 'meal',\n",
              "       'country', 'market_segment', 'distribution_channel',\n",
              "       'is_repeated_guest', 'previous_cancellations',\n",
              "       'previous_bookings_not_canceled', 'reserved_room_type',\n",
              "       'assigned_room_type', 'booking_changes', 'deposit_type', 'agent',\n",
              "       'days_in_waiting_list', 'customer_type', 'adr',\n",
              "       'required_car_parking_spaces', 'total_of_special_requests',\n",
              "       'reservation_status', 'reservation_status_date'],\n",
              "      dtype='object')"
            ]
          },
          "metadata": {
            "tags": []
          },
          "execution_count": 12
        }
      ]
    },
    {
      "cell_type": "code",
      "metadata": {
        "id": "zYfMPhmUz0KF"
      },
      "source": [
        "#renaming the column adr to price \n",
        "hotelbookings.rename(columns={'adr':'price'},inplace=True)"
      ],
      "execution_count": 13,
      "outputs": []
    },
    {
      "cell_type": "code",
      "metadata": {
        "id": "_PB7fZqSz0KG"
      },
      "source": [
        "# there are two columns babies and children\n",
        "# we will create a new column and impute it with the sum of babies and children\n",
        "hotelbookings['children']=pd.to_numeric(hotelbookings['children'],errors='coerce')\n",
        "hotelbookings['kids']=hotelbookings['babies']+ hotelbookings['children']\n",
        "\n",
        "#creating a new column total visitors\n",
        "#will be the sum of visitors\n",
        "hotelbookings['total_visitors']=hotelbookings['adults']+ hotelbookings['kids']\n",
        "\n",
        "#we will then drop the columns babies and children from our dataset\n",
        "hotelbookings.drop(['children','babies'],axis=1,inplace=True)"
      ],
      "execution_count": 14,
      "outputs": []
    },
    {
      "cell_type": "markdown",
      "metadata": {
        "id": "EVUAGxU5_wXE"
      },
      "source": [
        "## EDA"
      ]
    },
    {
      "cell_type": "markdown",
      "metadata": {
        "id": "Mec7NIqahrkS"
      },
      "source": [
        "- we will first start by making some filters on the dataset\n",
        "- they will be of help when exploring the dataset"
      ]
    },
    {
      "cell_type": "code",
      "metadata": {
        "id": "pBGlI82KhqOF"
      },
      "source": [
        "#we will first filter the dataset to have only records of non-cancelled and cancelled bookings respectively\n",
        "notcancel=hotelbookings[hotelbookings['is_canceled']==0]\n",
        "cancelled=hotelbookings[hotelbookings['is_canceled']==1]\n",
        "#we will also filter to have records of repeated customers only\n",
        "repeated_customer=hotelbookings[hotelbookings['is_repeated_guest']==1]"
      ],
      "execution_count": 15,
      "outputs": []
    },
    {
      "cell_type": "markdown",
      "metadata": {
        "id": "D83tKLmp_5M1"
      },
      "source": [
        "### Univariate Analysis"
      ]
    },
    {
      "cell_type": "code",
      "metadata": {
        "colab": {
          "base_uri": "https://localhost:8080/",
          "height": 638
        },
        "id": "LihfGGNWsuzJ",
        "outputId": "dfb0309e-277a-4e89-fcd7-aef4063602c0"
      },
      "source": [
        "#we will filter the dataset to have numerical values first\n",
        "numerical=hotelbookings.select_dtypes(exclude='object')\n",
        "\n",
        "#getting the summary statistics of this columns \n",
        "numerical.describe().T"
      ],
      "execution_count": 16,
      "outputs": [
        {
          "output_type": "execute_result",
          "data": {
            "text/html": [
              "<div>\n",
              "<style scoped>\n",
              "    .dataframe tbody tr th:only-of-type {\n",
              "        vertical-align: middle;\n",
              "    }\n",
              "\n",
              "    .dataframe tbody tr th {\n",
              "        vertical-align: top;\n",
              "    }\n",
              "\n",
              "    .dataframe thead th {\n",
              "        text-align: right;\n",
              "    }\n",
              "</style>\n",
              "<table border=\"1\" class=\"dataframe\">\n",
              "  <thead>\n",
              "    <tr style=\"text-align: right;\">\n",
              "      <th></th>\n",
              "      <th>count</th>\n",
              "      <th>mean</th>\n",
              "      <th>std</th>\n",
              "      <th>min</th>\n",
              "      <th>25%</th>\n",
              "      <th>50%</th>\n",
              "      <th>75%</th>\n",
              "      <th>max</th>\n",
              "    </tr>\n",
              "  </thead>\n",
              "  <tbody>\n",
              "    <tr>\n",
              "      <th>is_canceled</th>\n",
              "      <td>119390.0</td>\n",
              "      <td>0.370416</td>\n",
              "      <td>0.482918</td>\n",
              "      <td>0.00</td>\n",
              "      <td>0.00</td>\n",
              "      <td>0.000</td>\n",
              "      <td>1.0</td>\n",
              "      <td>1.0</td>\n",
              "    </tr>\n",
              "    <tr>\n",
              "      <th>lead_time</th>\n",
              "      <td>119390.0</td>\n",
              "      <td>104.011416</td>\n",
              "      <td>106.863097</td>\n",
              "      <td>0.00</td>\n",
              "      <td>18.00</td>\n",
              "      <td>69.000</td>\n",
              "      <td>160.0</td>\n",
              "      <td>737.0</td>\n",
              "    </tr>\n",
              "    <tr>\n",
              "      <th>arrival_date_year</th>\n",
              "      <td>119390.0</td>\n",
              "      <td>2016.156554</td>\n",
              "      <td>0.707476</td>\n",
              "      <td>2015.00</td>\n",
              "      <td>2016.00</td>\n",
              "      <td>2016.000</td>\n",
              "      <td>2017.0</td>\n",
              "      <td>2017.0</td>\n",
              "    </tr>\n",
              "    <tr>\n",
              "      <th>arrival_date_week_number</th>\n",
              "      <td>119390.0</td>\n",
              "      <td>27.165173</td>\n",
              "      <td>13.605138</td>\n",
              "      <td>1.00</td>\n",
              "      <td>16.00</td>\n",
              "      <td>28.000</td>\n",
              "      <td>38.0</td>\n",
              "      <td>53.0</td>\n",
              "    </tr>\n",
              "    <tr>\n",
              "      <th>arrival_date_day_of_month</th>\n",
              "      <td>119390.0</td>\n",
              "      <td>15.798241</td>\n",
              "      <td>8.780829</td>\n",
              "      <td>1.00</td>\n",
              "      <td>8.00</td>\n",
              "      <td>16.000</td>\n",
              "      <td>23.0</td>\n",
              "      <td>31.0</td>\n",
              "    </tr>\n",
              "    <tr>\n",
              "      <th>stays_in_weekend_nights</th>\n",
              "      <td>119390.0</td>\n",
              "      <td>0.927599</td>\n",
              "      <td>0.998613</td>\n",
              "      <td>0.00</td>\n",
              "      <td>0.00</td>\n",
              "      <td>1.000</td>\n",
              "      <td>2.0</td>\n",
              "      <td>19.0</td>\n",
              "    </tr>\n",
              "    <tr>\n",
              "      <th>stays_in_week_nights</th>\n",
              "      <td>119390.0</td>\n",
              "      <td>2.500302</td>\n",
              "      <td>1.908286</td>\n",
              "      <td>0.00</td>\n",
              "      <td>1.00</td>\n",
              "      <td>2.000</td>\n",
              "      <td>3.0</td>\n",
              "      <td>50.0</td>\n",
              "    </tr>\n",
              "    <tr>\n",
              "      <th>adults</th>\n",
              "      <td>119390.0</td>\n",
              "      <td>1.856403</td>\n",
              "      <td>0.579261</td>\n",
              "      <td>0.00</td>\n",
              "      <td>2.00</td>\n",
              "      <td>2.000</td>\n",
              "      <td>2.0</td>\n",
              "      <td>55.0</td>\n",
              "    </tr>\n",
              "    <tr>\n",
              "      <th>is_repeated_guest</th>\n",
              "      <td>119390.0</td>\n",
              "      <td>0.031912</td>\n",
              "      <td>0.175767</td>\n",
              "      <td>0.00</td>\n",
              "      <td>0.00</td>\n",
              "      <td>0.000</td>\n",
              "      <td>0.0</td>\n",
              "      <td>1.0</td>\n",
              "    </tr>\n",
              "    <tr>\n",
              "      <th>previous_cancellations</th>\n",
              "      <td>119390.0</td>\n",
              "      <td>0.087118</td>\n",
              "      <td>0.844336</td>\n",
              "      <td>0.00</td>\n",
              "      <td>0.00</td>\n",
              "      <td>0.000</td>\n",
              "      <td>0.0</td>\n",
              "      <td>26.0</td>\n",
              "    </tr>\n",
              "    <tr>\n",
              "      <th>previous_bookings_not_canceled</th>\n",
              "      <td>119390.0</td>\n",
              "      <td>0.137097</td>\n",
              "      <td>1.497437</td>\n",
              "      <td>0.00</td>\n",
              "      <td>0.00</td>\n",
              "      <td>0.000</td>\n",
              "      <td>0.0</td>\n",
              "      <td>72.0</td>\n",
              "    </tr>\n",
              "    <tr>\n",
              "      <th>booking_changes</th>\n",
              "      <td>119390.0</td>\n",
              "      <td>0.221124</td>\n",
              "      <td>0.652306</td>\n",
              "      <td>0.00</td>\n",
              "      <td>0.00</td>\n",
              "      <td>0.000</td>\n",
              "      <td>0.0</td>\n",
              "      <td>21.0</td>\n",
              "    </tr>\n",
              "    <tr>\n",
              "      <th>agent</th>\n",
              "      <td>119390.0</td>\n",
              "      <td>91.771120</td>\n",
              "      <td>112.494611</td>\n",
              "      <td>1.00</td>\n",
              "      <td>9.00</td>\n",
              "      <td>14.000</td>\n",
              "      <td>240.0</td>\n",
              "      <td>535.0</td>\n",
              "    </tr>\n",
              "    <tr>\n",
              "      <th>days_in_waiting_list</th>\n",
              "      <td>119390.0</td>\n",
              "      <td>2.321149</td>\n",
              "      <td>17.594721</td>\n",
              "      <td>0.00</td>\n",
              "      <td>0.00</td>\n",
              "      <td>0.000</td>\n",
              "      <td>0.0</td>\n",
              "      <td>391.0</td>\n",
              "    </tr>\n",
              "    <tr>\n",
              "      <th>price</th>\n",
              "      <td>119390.0</td>\n",
              "      <td>101.831122</td>\n",
              "      <td>50.535790</td>\n",
              "      <td>-6.38</td>\n",
              "      <td>69.29</td>\n",
              "      <td>94.575</td>\n",
              "      <td>126.0</td>\n",
              "      <td>5400.0</td>\n",
              "    </tr>\n",
              "    <tr>\n",
              "      <th>required_car_parking_spaces</th>\n",
              "      <td>119390.0</td>\n",
              "      <td>0.062518</td>\n",
              "      <td>0.245291</td>\n",
              "      <td>0.00</td>\n",
              "      <td>0.00</td>\n",
              "      <td>0.000</td>\n",
              "      <td>0.0</td>\n",
              "      <td>8.0</td>\n",
              "    </tr>\n",
              "    <tr>\n",
              "      <th>total_of_special_requests</th>\n",
              "      <td>119390.0</td>\n",
              "      <td>0.571363</td>\n",
              "      <td>0.792798</td>\n",
              "      <td>0.00</td>\n",
              "      <td>0.00</td>\n",
              "      <td>0.000</td>\n",
              "      <td>1.0</td>\n",
              "      <td>5.0</td>\n",
              "    </tr>\n",
              "    <tr>\n",
              "      <th>kids</th>\n",
              "      <td>119390.0</td>\n",
              "      <td>0.111839</td>\n",
              "      <td>0.412560</td>\n",
              "      <td>0.00</td>\n",
              "      <td>0.00</td>\n",
              "      <td>0.000</td>\n",
              "      <td>0.0</td>\n",
              "      <td>10.0</td>\n",
              "    </tr>\n",
              "    <tr>\n",
              "      <th>total_visitors</th>\n",
              "      <td>119390.0</td>\n",
              "      <td>1.968242</td>\n",
              "      <td>0.722396</td>\n",
              "      <td>0.00</td>\n",
              "      <td>2.00</td>\n",
              "      <td>2.000</td>\n",
              "      <td>2.0</td>\n",
              "      <td>55.0</td>\n",
              "    </tr>\n",
              "  </tbody>\n",
              "</table>\n",
              "</div>"
            ],
            "text/plain": [
              "                                   count         mean  ...     75%     max\n",
              "is_canceled                     119390.0     0.370416  ...     1.0     1.0\n",
              "lead_time                       119390.0   104.011416  ...   160.0   737.0\n",
              "arrival_date_year               119390.0  2016.156554  ...  2017.0  2017.0\n",
              "arrival_date_week_number        119390.0    27.165173  ...    38.0    53.0\n",
              "arrival_date_day_of_month       119390.0    15.798241  ...    23.0    31.0\n",
              "stays_in_weekend_nights         119390.0     0.927599  ...     2.0    19.0\n",
              "stays_in_week_nights            119390.0     2.500302  ...     3.0    50.0\n",
              "adults                          119390.0     1.856403  ...     2.0    55.0\n",
              "is_repeated_guest               119390.0     0.031912  ...     0.0     1.0\n",
              "previous_cancellations          119390.0     0.087118  ...     0.0    26.0\n",
              "previous_bookings_not_canceled  119390.0     0.137097  ...     0.0    72.0\n",
              "booking_changes                 119390.0     0.221124  ...     0.0    21.0\n",
              "agent                           119390.0    91.771120  ...   240.0   535.0\n",
              "days_in_waiting_list            119390.0     2.321149  ...     0.0   391.0\n",
              "price                           119390.0   101.831122  ...   126.0  5400.0\n",
              "required_car_parking_spaces     119390.0     0.062518  ...     0.0     8.0\n",
              "total_of_special_requests       119390.0     0.571363  ...     1.0     5.0\n",
              "kids                            119390.0     0.111839  ...     0.0    10.0\n",
              "total_visitors                  119390.0     1.968242  ...     2.0    55.0\n",
              "\n",
              "[19 rows x 8 columns]"
            ]
          },
          "metadata": {
            "tags": []
          },
          "execution_count": 16
        }
      ]
    },
    {
      "cell_type": "markdown",
      "metadata": {
        "id": "A8xawdavAAqe"
      },
      "source": [
        "##### price"
      ]
    },
    {
      "cell_type": "code",
      "metadata": {
        "id": "eo0XxDhYz0KG",
        "colab": {
          "base_uri": "https://localhost:8080/",
          "height": 282
        },
        "outputId": "7e868574-1fbe-4e80-ed8f-d8e71b416a4b"
      },
      "source": [
        "hotelbookings['price'].plot(kind='kde')\n",
        "\n",
        "#we can see that the median price is below the mean price\n",
        "#this shows that the data is not normally distributed and has leptokurtic kurtosis"
      ],
      "execution_count": 17,
      "outputs": [
        {
          "output_type": "execute_result",
          "data": {
            "text/plain": [
              "<matplotlib.axes._subplots.AxesSubplot at 0x7f6c6a91ee90>"
            ]
          },
          "metadata": {
            "tags": []
          },
          "execution_count": 17
        },
        {
          "output_type": "display_data",
          "data": {
            "image/png": "[encoded data removed]",
            "text/plain": [
              "<Figure size 432x288 with 1 Axes>"
            ]
          },
          "metadata": {
            "tags": [],
            "needs_background": "light"
          }
        }
      ]
    },
    {
      "cell_type": "code",
      "metadata": {
        "id": "x0kt3V5pBEZR"
      },
      "source": [
        "#we can see that we have an abnormaly in the price column\n",
        "#we cant have a negative price\n",
        "\n",
        "#we will filter the dataset to see which rows had negative prices\n",
        "hotelbookings.loc[hotelbookings['price']<0]\n",
        "\n",
        "#we can see that only one row had a negative price\n",
        "#which is row 14969\n",
        "\n",
        "#we will drop the record\n",
        "hotelbookings.drop(hotelbookings.loc[hotelbookings['price']<0].index,inplace=True)"
      ],
      "execution_count": 18,
      "outputs": []
    },
    {
      "cell_type": "code",
      "metadata": {
        "id": "2H2TdVeGz0KH",
        "colab": {
          "base_uri": "https://localhost:8080/",
          "height": 374
        },
        "outputId": "fe6d945b-9a28-4449-b136-1a9b60c90343"
      },
      "source": [
        "#identifying the outliers in the column price\n",
        "plt.figure(figsize=(6,6)) \n",
        "plt.boxplot(hotelbookings['price'])\n",
        "plt.show()\n",
        "\n",
        "#we can see that there are outlier values"
      ],
      "execution_count": 19,
      "outputs": [
        {
          "output_type": "display_data",
          "data": {
            "image/png": "[encoded data removed]",
            "text/plain": [
              "<Figure size 432x432 with 1 Axes>"
            ]
          },
          "metadata": {
            "tags": [],
            "needs_background": "light"
          }
        }
      ]
    },
    {
      "cell_type": "code",
      "metadata": {
        "id": "dbWeDQo8z0KI",
        "colab": {
          "base_uri": "https://localhost:8080/",
          "height": 374
        },
        "outputId": "a4e132df-c176-40ae-a0ac-4beb5c92a3c9"
      },
      "source": [
        "#dropping by the row with outliers by their index\n",
        "hotelbookings.drop(hotelbookings[hotelbookings['price'] >150].index, inplace = True)\n",
        "\n",
        "#to confirm if the outlier values have been dropped\n",
        "plt.figure(figsize=(6,6)) \n",
        "plt.boxplot(hotelbookings['price'])\n",
        "plt.show()"
      ],
      "execution_count": 20,
      "outputs": [
        {
          "output_type": "display_data",
          "data": {
            "image/png": "[encoded data removed]",
            "text/plain": [
              "<Figure size 432x432 with 1 Axes>"
            ]
          },
          "metadata": {
            "tags": [],
            "needs_background": "light"
          }
        }
      ]
    },
    {
      "cell_type": "markdown",
      "metadata": {
        "id": "jcU4H0oDoFIN"
      },
      "source": [
        "######total visitors in a room"
      ]
    },
    {
      "cell_type": "code",
      "metadata": {
        "colab": {
          "base_uri": "https://localhost:8080/",
          "height": 374
        },
        "id": "Vn4aVO7PsFE9",
        "outputId": "ea657200-9b73-498a-f830-830db3306dbf"
      },
      "source": [
        "hotelbookings['total_visitors'].plot(kind='kde',figsize=(6,6))\n",
        "plt.show()\n",
        "\n",
        "#we can see that this column is not normally distibuted"
      ],
      "execution_count": 21,
      "outputs": [
        {
          "output_type": "display_data",
          "data": {
            "image/png": "[encoded data removed]",
            "text/plain": [
              "<Figure size 432x432 with 1 Axes>"
            ]
          },
          "metadata": {
            "tags": [],
            "needs_background": "light"
          }
        }
      ]
    },
    {
      "cell_type": "code",
      "metadata": {
        "id": "twBaHkpOnTCO"
      },
      "source": [
        "#we cannot have zero visitors in a hotel room\n",
        "#we will therefore filter the dataset to ensure that the number of visitors in the hotl room are 1 and above\n",
        "hotelbookings=hotelbookings[hotelbookings['total_visitors']>0]"
      ],
      "execution_count": 22,
      "outputs": []
    },
    {
      "cell_type": "code",
      "metadata": {
        "colab": {
          "base_uri": "https://localhost:8080/",
          "height": 374
        },
        "id": "pjxqTCoPogrB",
        "outputId": "c02b3112-8c22-444d-e908-10549b201cc7"
      },
      "source": [
        "#we will look for outlier values in this column\n",
        "plt.figure(figsize=(6,6)) \n",
        "plt.boxplot(hotelbookings['total_visitors'])\n",
        "plt.show()\n",
        "\n",
        "#we will not drop the outlier values\n",
        "#the outleir values might be actually have some information in them\n",
        "# corprates groups always have many number of people travelling\n",
        "\n",
        "#this column will be rescalled inorder to account for the outlier values"
      ],
      "execution_count": 23,
      "outputs": [
        {
          "output_type": "display_data",
          "data": {
            "image/png": "[encoded data removed]",
            "text/plain": [
              "<Figure size 432x432 with 1 Axes>"
            ]
          },
          "metadata": {
            "tags": [],
            "needs_background": "light"
          }
        }
      ]
    },
    {
      "cell_type": "markdown",
      "metadata": {
        "id": "J9bKJY7usaiK"
      },
      "source": [
        "##### Lead Days"
      ]
    },
    {
      "cell_type": "code",
      "metadata": {
        "colab": {
          "base_uri": "https://localhost:8080/",
          "height": 0
        },
        "id": "mJIRAQw-sesF",
        "outputId": "46ae9343-d888-4668-91ca-0817099f400c"
      },
      "source": [
        "hotelbookings['lead_time'].plot(kind='kde')"
      ],
      "execution_count": 24,
      "outputs": [
        {
          "output_type": "execute_result",
          "data": {
            "text/plain": [
              "<matplotlib.axes._subplots.AxesSubplot at 0x7f6c5fbb2dd0>"
            ]
          },
          "metadata": {
            "tags": []
          },
          "execution_count": 24
        },
        {
          "output_type": "display_data",
          "data": {
            "image/png": "[encoded data removed]",
            "text/plain": [
              "<Figure size 432x288 with 1 Axes>"
            ]
          },
          "metadata": {
            "tags": [],
            "needs_background": "light"
          }
        }
      ]
    },
    {
      "cell_type": "code",
      "metadata": {
        "colab": {
          "base_uri": "https://localhost:8080/",
          "height": 0
        },
        "id": "2M6UP8jVvHtO",
        "outputId": "03acc860-6fff-4d48-fdaa-527966d37774"
      },
      "source": [
        "plt.figure(figsize=(6,6)) \n",
        "plt.boxplot(hotelbookings['lead_time'])\n",
        "plt.show()\n",
        "\n",
        "#we can see that there are outliers in this columns aswell\n",
        "#we can decide not to drop them and insted rescalle them"
      ],
      "execution_count": 25,
      "outputs": [
        {
          "output_type": "display_data",
          "data": {
            "image/png": "[encoded data removed]",
            "text/plain": [
              "<Figure size 432x432 with 1 Axes>"
            ]
          },
          "metadata": {
            "tags": [],
            "needs_background": "light"
          }
        }
      ]
    },
    {
      "cell_type": "markdown",
      "metadata": {
        "id": "KE3bz4cUDGNE"
      },
      "source": [
        "##### Reservation Status"
      ]
    },
    {
      "cell_type": "code",
      "metadata": {
        "id": "llsVEqcPz0KJ",
        "colab": {
          "base_uri": "https://localhost:8080/"
        },
        "outputId": "2727ed2c-7397-49ab-beae-4cf365a21f35"
      },
      "source": [
        "hotelbookings['reservation_status'].unique()"
      ],
      "execution_count": 26,
      "outputs": [
        {
          "output_type": "execute_result",
          "data": {
            "text/plain": [
              "array(['Check-Out', 'Canceled', 'No-Show'], dtype=object)"
            ]
          },
          "metadata": {
            "tags": []
          },
          "execution_count": 26
        }
      ]
    },
    {
      "cell_type": "code",
      "metadata": {
        "colab": {
          "base_uri": "https://localhost:8080/",
          "height": 0
        },
        "id": "Vpu8BQ1lwTZQ",
        "outputId": "ca9df1bc-fa39-47c1-f201-6844ae71fdaa"
      },
      "source": [
        "explode=0,0.1,0\n",
        "hotelbookings.groupby('reservation_status')['is_canceled'].value_counts().plot(kind='pie',autopct='%1.3f%%',explode=explode)\n",
        "plt.show()"
      ],
      "execution_count": 27,
      "outputs": [
        {
          "output_type": "display_data",
          "data": {
            "image/png": "[encoded data removed]",
            "text/plain": [
              "<Figure size 432x288 with 1 Axes>"
            ]
          },
          "metadata": {
            "tags": []
          }
        }
      ]
    },
    {
      "cell_type": "markdown",
      "metadata": {
        "id": "WfWOm-1Gw80i"
      },
      "source": [
        "##### hotel"
      ]
    },
    {
      "cell_type": "code",
      "metadata": {
        "colab": {
          "base_uri": "https://localhost:8080/",
          "height": 0
        },
        "id": "eKIJ91TZxARX",
        "outputId": "442d015b-46bb-449c-cb9b-008fa02a7964"
      },
      "source": [
        "print(pd.crosstab(hotelbookings.hotel,hotelbookings.is_canceled,margins=True,margins_name='Total'))\n",
        "\n",
        "print('***plottting***')\n",
        "pd.crosstab(hotelbookings.hotel,hotelbookings.is_canceled).plot(kind='bar',figsize=(7,7))\n",
        "plt.ylabel('count')\n",
        "plt.show()"
      ],
      "execution_count": 28,
      "outputs": [
        {
          "output_type": "stream",
          "text": [
            "is_canceled       0      1   Total\n",
            "hotel                             \n",
            "City Hotel    40510  29435   69945\n",
            "Resort Hotel  24282   8477   32759\n",
            "Total         64792  37912  102704\n",
            "***plottting***\n"
          ],
          "name": "stdout"
        },
        {
          "output_type": "display_data",
          "data": {
            "image/png": "[encoded data removed]",
            "text/plain": [
              "<Figure size 504x504 with 1 Axes>"
            ]
          },
          "metadata": {
            "tags": [],
            "needs_background": "light"
          }
        }
      ]
    },
    {
      "cell_type": "markdown",
      "metadata": {
        "id": "b9hpFl360IQq"
      },
      "source": [
        "##### meals"
      ]
    },
    {
      "cell_type": "code",
      "metadata": {
        "colab": {
          "base_uri": "https://localhost:8080/",
          "height": 0
        },
        "id": "Z_TbnQ320VPn",
        "outputId": "22b81f03-b978-45b6-dedc-eef1d8b93dee"
      },
      "source": [
        "print(pd.crosstab(hotelbookings.meal,hotelbookings.hotel))\n",
        "print('*** plotting***')\n",
        "pd.crosstab(hotelbookings.hotel,hotelbookings.meal).plot(kind='bar',figsize=(6,6))\n",
        "plt.ylabel('count')\n",
        "plt.show()\n",
        "\n",
        "\n",
        "#in both hotels, most customers prefer bead and breakfast\n",
        "#full board is the most unpopular in city hotel while self catering is the most unpopular in the resort hotel"
      ],
      "execution_count": 29,
      "outputs": [
        {
          "output_type": "stream",
          "text": [
            "hotel      City Hotel  Resort Hotel\n",
            "meal                               \n",
            "BB              54579         25294\n",
            "FB                 42           593\n",
            "HB               5229          5770\n",
            "SC              10095            75\n",
            "Undefined           0          1027\n",
            "*** plotting***\n"
          ],
          "name": "stdout"
        },
        {
          "output_type": "display_data",
          "data": {
            "image/png": "[encoded data removed]",
            "text/plain": [
              "<Figure size 432x432 with 1 Axes>"
            ]
          },
          "metadata": {
            "tags": [],
            "needs_background": "light"
          }
        }
      ]
    },
    {
      "cell_type": "code",
      "metadata": {
        "id": "8x4gP4su5B7e"
      },
      "source": [
        "#we will create another column with the total number of nights spent by the visitors\n",
        "hotelbookings['total_stays_in_nights']=hotelbookings['stays_in_weekend_nights']+hotelbookings['stays_in_week_nights']"
      ],
      "execution_count": 30,
      "outputs": []
    },
    {
      "cell_type": "code",
      "metadata": {
        "colab": {
          "base_uri": "https://localhost:8080/",
          "height": 0
        },
        "id": "yCIzteha5dIj",
        "outputId": "912a7887-e154-46b9-f6b6-66b3b925ffc2"
      },
      "source": [
        "print(pd.crosstab(hotelbookings.total_stays_in_nights,hotelbookings.meal).head(14))\n",
        "\n",
        "print('*** to plot meal type by the number of nights spent***')\n",
        "\n",
        "pd.crosstab(hotelbookings.total_stays_in_nights,hotelbookings.meal).head(14).plot(kind='bar',figsize=(6,6))\n",
        "plt.title('number of days vs preffered meals\\n\\n')\n",
        "plt.ylabel('count')\n",
        "plt.show()\n",
        "\n",
        "\n",
        "#we can see that bead and breakfast was the most popular meal type across all the number of nights"
      ],
      "execution_count": 31,
      "outputs": [
        {
          "output_type": "stream",
          "text": [
            "meal                      BB   FB    HB    SC  Undefined\n",
            "total_stays_in_nights                                   \n",
            "0                        515    1    74    46          9\n",
            "1                      15075   37   905  2431          9\n",
            "2                      18393  208  3845  2278        146\n",
            "3                      18596  194  1675  2411        545\n",
            "4                      11995   87  1087  1711         72\n",
            "5                       5095    8   536   591          5\n",
            "6                       2275   31   290   223         66\n",
            "7                       4941   49  1662   264        113\n",
            "8                        661    4   131    67         17\n",
            "9                        466    3   123    35          2\n",
            "10                       635    5   242    33          8\n",
            "11                       225    2    61     7          3\n",
            "12                       150    1    10     7          9\n",
            "13                        84    3    10     5          0\n",
            "*** to plot meal type by the number of nights spent***\n"
          ],
          "name": "stdout"
        },
        {
          "output_type": "display_data",
          "data": {
            "image/png": "[encoded data removed]",
            "text/plain": [
              "<Figure size 432x432 with 1 Axes>"
            ]
          },
          "metadata": {
            "tags": [],
            "needs_background": "light"
          }
        }
      ]
    },
    {
      "cell_type": "markdown",
      "metadata": {
        "id": "V0AXQ2Vd7NTG"
      },
      "source": [
        "##### country"
      ]
    },
    {
      "cell_type": "code",
      "metadata": {
        "colab": {
          "base_uri": "https://localhost:8080/",
          "height": 0
        },
        "id": "dGNrwXnB7Ofp",
        "outputId": "9fb31ef7-962d-46bf-b440-2a863c20230c"
      },
      "source": [
        "print(pd.crosstab(hotelbookings.country,hotelbookings.is_canceled).nlargest(10,1))\n",
        "\n",
        "print('*** country of origin of visitor vs cancellation statues')\n",
        "\n",
        "pd.crosstab(hotelbookings.country,hotelbookings.is_canceled).nlargest(10,1).plot(kind='bar',figsize=(6,6))\n",
        "plt.ylabel('count')\n",
        "plt.show()\n",
        "\n",
        "#we can conclude that most visitors were from Portugal\n",
        "#this can help us conclude that the host country of the two hotels is portugal"
      ],
      "execution_count": 32,
      "outputs": [
        {
          "output_type": "stream",
          "text": [
            "is_canceled      0      1\n",
            "country                  \n",
            "PRT          18619  25195\n",
            "GBR           8768   1949\n",
            "FRA           7330   1487\n",
            "ESP           5005   1427\n",
            "ITA           2058   1061\n",
            "DEU           5576   1004\n",
            "IRL           2254    676\n",
            "BRA           1173    670\n",
            "CHN            472    393\n",
            "BEL           1586    376\n",
            "*** country of origin of visitor vs cancellation statues\n"
          ],
          "name": "stdout"
        },
        {
          "output_type": "display_data",
          "data": {
            "image/png": "[encoded data removed]",
            "text/plain": [
              "<Figure size 432x432 with 1 Axes>"
            ]
          },
          "metadata": {
            "tags": [],
            "needs_background": "light"
          }
        }
      ]
    },
    {
      "cell_type": "markdown",
      "metadata": {
        "id": "oyFBFu6-9nXH"
      },
      "source": [
        "##### arrival month "
      ]
    },
    {
      "cell_type": "code",
      "metadata": {
        "colab": {
          "base_uri": "https://localhost:8080/",
          "height": 0
        },
        "id": "mevwgUP79qt-",
        "outputId": "871dd052-7324-4b8a-a2d1-c0e6ec2644c7"
      },
      "source": [
        "print('arrival date month and cancellation status')\n",
        "print(pd.crosstab(hotelbookings.arrival_date_month,hotelbookings.is_canceled))\n",
        "\n",
        "print('***plotting arrival date month and cancellation status')\n",
        "pd.crosstab(hotelbookings.arrival_date_month,hotelbookings.is_canceled).sort_values(by=0,ascending=False).plot(kind='bar',figsize=(6,6))\n",
        "plt.ylabel('count')\n",
        "plt.show()\n",
        "\n",
        "#the month of october had the least cancellation\n",
        "#the month of April had the most cancellations"
      ],
      "execution_count": 33,
      "outputs": [
        {
          "output_type": "stream",
          "text": [
            "arrival date month and cancellation status\n",
            "is_canceled            0     1\n",
            "arrival_date_month            \n",
            "April               5989  4113\n",
            "August              5252  3291\n",
            "December            4122  2268\n",
            "February            5256  2632\n",
            "January             4063  1783\n",
            "July                5645  3455\n",
            "June                5390  3834\n",
            "March               6409  3025\n",
            "May                 6225  3884\n",
            "November            4516  2071\n",
            "October             6536  4068\n",
            "September           5389  3488\n",
            "***plotting arrival date month and cancellation status\n"
          ],
          "name": "stdout"
        },
        {
          "output_type": "display_data",
          "data": {
            "image/png": "[encoded data removed]",
            "text/plain": [
              "<Figure size 432x432 with 1 Axes>"
            ]
          },
          "metadata": {
            "tags": [],
            "needs_background": "light"
          }
        }
      ]
    },
    {
      "cell_type": "code",
      "metadata": {
        "colab": {
          "base_uri": "https://localhost:8080/",
          "height": 0
        },
        "id": "Kxk8hK-SiPcR",
        "outputId": "7c9e6861-034a-45f5-8cd7-0a0f60fecfb1"
      },
      "source": [
        "print('arrival date month with the highest number of visits')\n",
        "pd.crosstab(notcancel.arrival_date_month,notcancel.total_visitors,margins=True,margins_name='Total').sort_values(by='Total',ascending=False)\n",
        "\n",
        "#we can see that the month of October had the most visitors while that of January had the least visitors"
      ],
      "execution_count": 34,
      "outputs": [
        {
          "output_type": "stream",
          "text": [
            "arrival date month with the highest number of visits\n"
          ],
          "name": "stdout"
        },
        {
          "output_type": "execute_result",
          "data": {
            "text/html": [
              "<div>\n",
              "<style scoped>\n",
              "    .dataframe tbody tr th:only-of-type {\n",
              "        vertical-align: middle;\n",
              "    }\n",
              "\n",
              "    .dataframe tbody tr th {\n",
              "        vertical-align: top;\n",
              "    }\n",
              "\n",
              "    .dataframe thead th {\n",
              "        text-align: right;\n",
              "    }\n",
              "</style>\n",
              "<table border=\"1\" class=\"dataframe\">\n",
              "  <thead>\n",
              "    <tr style=\"text-align: right;\">\n",
              "      <th>total_visitors</th>\n",
              "      <th>0.0</th>\n",
              "      <th>1.0</th>\n",
              "      <th>2.0</th>\n",
              "      <th>3.0</th>\n",
              "      <th>4.0</th>\n",
              "      <th>5.0</th>\n",
              "      <th>10.0</th>\n",
              "      <th>12.0</th>\n",
              "      <th>Total</th>\n",
              "    </tr>\n",
              "    <tr>\n",
              "      <th>arrival_date_month</th>\n",
              "      <th></th>\n",
              "      <th></th>\n",
              "      <th></th>\n",
              "      <th></th>\n",
              "      <th></th>\n",
              "      <th></th>\n",
              "      <th></th>\n",
              "      <th></th>\n",
              "      <th></th>\n",
              "    </tr>\n",
              "  </thead>\n",
              "  <tbody>\n",
              "    <tr>\n",
              "      <th>Total</th>\n",
              "      <td>155</td>\n",
              "      <td>16026</td>\n",
              "      <td>49479</td>\n",
              "      <td>7118</td>\n",
              "      <td>2283</td>\n",
              "      <td>103</td>\n",
              "      <td>1</td>\n",
              "      <td>1</td>\n",
              "      <td>75166</td>\n",
              "    </tr>\n",
              "    <tr>\n",
              "      <th>August</th>\n",
              "      <td>14</td>\n",
              "      <td>817</td>\n",
              "      <td>5705</td>\n",
              "      <td>1525</td>\n",
              "      <td>549</td>\n",
              "      <td>28</td>\n",
              "      <td>0</td>\n",
              "      <td>0</td>\n",
              "      <td>8638</td>\n",
              "    </tr>\n",
              "    <tr>\n",
              "      <th>July</th>\n",
              "      <td>12</td>\n",
              "      <td>841</td>\n",
              "      <td>5222</td>\n",
              "      <td>1368</td>\n",
              "      <td>452</td>\n",
              "      <td>24</td>\n",
              "      <td>0</td>\n",
              "      <td>0</td>\n",
              "      <td>7919</td>\n",
              "    </tr>\n",
              "    <tr>\n",
              "      <th>May</th>\n",
              "      <td>11</td>\n",
              "      <td>1522</td>\n",
              "      <td>4967</td>\n",
              "      <td>474</td>\n",
              "      <td>136</td>\n",
              "      <td>4</td>\n",
              "      <td>0</td>\n",
              "      <td>0</td>\n",
              "      <td>7114</td>\n",
              "    </tr>\n",
              "    <tr>\n",
              "      <th>October</th>\n",
              "      <td>13</td>\n",
              "      <td>1766</td>\n",
              "      <td>4579</td>\n",
              "      <td>437</td>\n",
              "      <td>115</td>\n",
              "      <td>3</td>\n",
              "      <td>1</td>\n",
              "      <td>0</td>\n",
              "      <td>6914</td>\n",
              "    </tr>\n",
              "    <tr>\n",
              "      <th>March</th>\n",
              "      <td>25</td>\n",
              "      <td>1729</td>\n",
              "      <td>4284</td>\n",
              "      <td>484</td>\n",
              "      <td>119</td>\n",
              "      <td>4</td>\n",
              "      <td>0</td>\n",
              "      <td>0</td>\n",
              "      <td>6645</td>\n",
              "    </tr>\n",
              "    <tr>\n",
              "      <th>April</th>\n",
              "      <td>5</td>\n",
              "      <td>1304</td>\n",
              "      <td>4449</td>\n",
              "      <td>605</td>\n",
              "      <td>194</td>\n",
              "      <td>8</td>\n",
              "      <td>0</td>\n",
              "      <td>0</td>\n",
              "      <td>6565</td>\n",
              "    </tr>\n",
              "    <tr>\n",
              "      <th>June</th>\n",
              "      <td>9</td>\n",
              "      <td>1197</td>\n",
              "      <td>4461</td>\n",
              "      <td>553</td>\n",
              "      <td>178</td>\n",
              "      <td>6</td>\n",
              "      <td>0</td>\n",
              "      <td>0</td>\n",
              "      <td>6404</td>\n",
              "    </tr>\n",
              "    <tr>\n",
              "      <th>September</th>\n",
              "      <td>7</td>\n",
              "      <td>1332</td>\n",
              "      <td>4557</td>\n",
              "      <td>362</td>\n",
              "      <td>134</td>\n",
              "      <td>0</td>\n",
              "      <td>0</td>\n",
              "      <td>0</td>\n",
              "      <td>6392</td>\n",
              "    </tr>\n",
              "    <tr>\n",
              "      <th>February</th>\n",
              "      <td>13</td>\n",
              "      <td>1481</td>\n",
              "      <td>3250</td>\n",
              "      <td>478</td>\n",
              "      <td>136</td>\n",
              "      <td>14</td>\n",
              "      <td>0</td>\n",
              "      <td>0</td>\n",
              "      <td>5372</td>\n",
              "    </tr>\n",
              "    <tr>\n",
              "      <th>November</th>\n",
              "      <td>21</td>\n",
              "      <td>1588</td>\n",
              "      <td>2813</td>\n",
              "      <td>199</td>\n",
              "      <td>49</td>\n",
              "      <td>2</td>\n",
              "      <td>0</td>\n",
              "      <td>0</td>\n",
              "      <td>4672</td>\n",
              "    </tr>\n",
              "    <tr>\n",
              "      <th>December</th>\n",
              "      <td>18</td>\n",
              "      <td>974</td>\n",
              "      <td>2883</td>\n",
              "      <td>390</td>\n",
              "      <td>138</td>\n",
              "      <td>6</td>\n",
              "      <td>0</td>\n",
              "      <td>0</td>\n",
              "      <td>4409</td>\n",
              "    </tr>\n",
              "    <tr>\n",
              "      <th>January</th>\n",
              "      <td>7</td>\n",
              "      <td>1475</td>\n",
              "      <td>2309</td>\n",
              "      <td>243</td>\n",
              "      <td>83</td>\n",
              "      <td>4</td>\n",
              "      <td>0</td>\n",
              "      <td>1</td>\n",
              "      <td>4122</td>\n",
              "    </tr>\n",
              "  </tbody>\n",
              "</table>\n",
              "</div>"
            ],
            "text/plain": [
              "total_visitors      0.0    1.0    2.0   3.0   4.0  5.0  10.0  12.0  Total\n",
              "arrival_date_month                                                       \n",
              "Total               155  16026  49479  7118  2283  103     1     1  75166\n",
              "August               14    817   5705  1525   549   28     0     0   8638\n",
              "July                 12    841   5222  1368   452   24     0     0   7919\n",
              "May                  11   1522   4967   474   136    4     0     0   7114\n",
              "October              13   1766   4579   437   115    3     1     0   6914\n",
              "March                25   1729   4284   484   119    4     0     0   6645\n",
              "April                 5   1304   4449   605   194    8     0     0   6565\n",
              "June                  9   1197   4461   553   178    6     0     0   6404\n",
              "September             7   1332   4557   362   134    0     0     0   6392\n",
              "February             13   1481   3250   478   136   14     0     0   5372\n",
              "November             21   1588   2813   199    49    2     0     0   4672\n",
              "December             18    974   2883   390   138    6     0     0   4409\n",
              "January               7   1475   2309   243    83    4     0     1   4122"
            ]
          },
          "metadata": {
            "tags": []
          },
          "execution_count": 34
        }
      ]
    },
    {
      "cell_type": "markdown",
      "metadata": {
        "id": "YDsw_LY1_bB9"
      },
      "source": [
        "##### market segment"
      ]
    },
    {
      "cell_type": "code",
      "metadata": {
        "colab": {
          "base_uri": "https://localhost:8080/",
          "height": 0
        },
        "id": "4To8H8Qh_d3p",
        "outputId": "2a45cdf2-0ae0-45f1-d569-aab98f417fea"
      },
      "source": [
        "print('marketting and cancellation status')\n",
        "print(pd.crosstab(hotelbookings.market_segment,hotelbookings.is_canceled))\n",
        "\n",
        "print('***plotting segemnts from which marketting the custoemrs came from and cancellation status')\n",
        "pd.crosstab(hotelbookings.market_segment,hotelbookings.is_canceled).sort_values(by=0,ascending=False).plot(kind='bar',figsize=(6,6))\n",
        "plt.title('marketting channel to get to customer vs cancellation status')\n",
        "plt.ylabel('count')\n",
        "plt.show()\n",
        "\n",
        "#customers reached through Online Travel Agents - online TA - had the highrst number of non cancelled booking\n",
        "#also this same segemtn had the most number of cancellation compared to the other marketting channels"
      ],
      "execution_count": 35,
      "outputs": [
        {
          "output_type": "stream",
          "text": [
            "marketting and cancellation status\n",
            "is_canceled         0      1\n",
            "market_segment              \n",
            "Aviation          181     52\n",
            "Complementary     638     89\n",
            "Corporate        4229    968\n",
            "Direct           8133   1371\n",
            "Groups           7422  11635\n",
            "Offline TA/TO   15366   7944\n",
            "Online TA       28823  15851\n",
            "Undefined           0      2\n",
            "***plotting segemnts from which marketting the custoemrs came from and cancellation status\n"
          ],
          "name": "stdout"
        },
        {
          "output_type": "display_data",
          "data": {
            "image/png": "[encoded data removed]",
            "text/plain": [
              "<Figure size 432x432 with 1 Axes>"
            ]
          },
          "metadata": {
            "tags": [],
            "needs_background": "light"
          }
        }
      ]
    },
    {
      "cell_type": "code",
      "metadata": {
        "id": "OXwCEskk_0XO"
      },
      "source": [
        "visitor_type=[]\n",
        "for i in hotelbookings['country']:\n",
        "  if i=='PRT':\n",
        "    visitor_type.append('Local Visitor')\n",
        "  else:\n",
        "    visitor_type.append('Foreign Visitor')\n",
        "\n",
        "hotelbookings['visitor_type']=visitor_type"
      ],
      "execution_count": 36,
      "outputs": []
    },
    {
      "cell_type": "code",
      "metadata": {
        "colab": {
          "base_uri": "https://localhost:8080/",
          "height": 0
        },
        "id": "Crvhtqo0B4xz",
        "outputId": "d1058171-274d-4c1d-fe47-de0273b8fd86"
      },
      "source": [
        "#to know which marketting channel is more popular for local and foreign visitors\n",
        "print(pd.crosstab(hotelbookings.market_segment,hotelbookings.visitor_type))\n",
        "\n",
        "pd.crosstab(hotelbookings.market_segment,hotelbookings.visitor_type ).plot(kind='bar',figsize=(6,6))\n",
        "plt.title('marketting channels vs type of visitor')\n",
        "plt.ylabel('count')\n",
        "plt.show()\n",
        "\n",
        "# the best marketting channel to reach foreign visitors is online TA\n",
        "#trhe best marketting channel to reach local visitors is groups"
      ],
      "execution_count": 37,
      "outputs": [
        {
          "output_type": "stream",
          "text": [
            "visitor_type    Foreign Visitor  Local Visitor\n",
            "market_segment                                \n",
            "Aviation                    130            103\n",
            "Complementary                69            658\n",
            "Corporate                   969           4228\n",
            "Direct                     4977           4527\n",
            "Groups                     5738          13319\n",
            "Offline TA/TO             11848          11462\n",
            "Online TA                 35159           9515\n",
            "Undefined                     0              2\n"
          ],
          "name": "stdout"
        },
        {
          "output_type": "display_data",
          "data": {
            "image/png": "[encoded data removed]",
            "text/plain": [
              "<Figure size 432x432 with 1 Axes>"
            ]
          },
          "metadata": {
            "tags": [],
            "needs_background": "light"
          }
        }
      ]
    },
    {
      "cell_type": "markdown",
      "metadata": {
        "id": "IXWCd1t8PW4L"
      },
      "source": [
        "##### Is Repeated Guest"
      ]
    },
    {
      "cell_type": "code",
      "metadata": {
        "colab": {
          "base_uri": "https://localhost:8080/",
          "height": 0
        },
        "id": "pN3vGUK7P-Qj",
        "outputId": "dfea301d-7a4d-4170-aff5-4feb380ab110"
      },
      "source": [
        "print(pd.crosstab(repeated_customer.is_repeated_guest,repeated_customer.hotel,margins=True,margins_name='Total'))\n",
        "\n",
        "print('*** plot repeated guest and hotel')\n",
        "pd.crosstab(repeated_customer.is_repeated_guest,repeated_customer.hotel).plot(kind='bar',figsize=(6,6))\n",
        "plt.title('Repeated quest vs hotel')\n",
        "plt.ylabel('count')\n",
        "plt.show()\n",
        "\n",
        "\n",
        "#city hotel has the most number of repeated customers"
      ],
      "execution_count": 38,
      "outputs": [
        {
          "output_type": "stream",
          "text": [
            "hotel              City Hotel  Resort Hotel  Total\n",
            "is_repeated_guest                                 \n",
            "1                        2032          1778   3810\n",
            "Total                    2032          1778   3810\n",
            "*** plot repeated guest and hotel\n"
          ],
          "name": "stdout"
        },
        {
          "output_type": "display_data",
          "data": {
            "image/png": "[encoded data removed]",
            "text/plain": [
              "<Figure size 432x432 with 1 Axes>"
            ]
          },
          "metadata": {
            "tags": [],
            "needs_background": "light"
          }
        }
      ]
    },
    {
      "cell_type": "code",
      "metadata": {
        "colab": {
          "base_uri": "https://localhost:8080/",
          "height": 0
        },
        "id": "IthCGZwQR-C0",
        "outputId": "1496c6b4-ee70-4024-ffd2-68fae6f81eb9"
      },
      "source": [
        "print('*** plot repeated guest and is cancelled')\n",
        "pd.crosstab(repeated_customer.is_repeated_guest,repeated_customer.is_canceled).plot(kind='bar',figsize=(6,6))\n",
        "plt.title('Repeated quest vs is cancelled')\n",
        "plt.ylabel('count')\n",
        "plt.show()\n",
        "\n",
        "#most of the repeated guests did not cancel their bookings"
      ],
      "execution_count": 39,
      "outputs": [
        {
          "output_type": "stream",
          "text": [
            "*** plot repeated guest and is cancelled\n"
          ],
          "name": "stdout"
        },
        {
          "output_type": "display_data",
          "data": {
            "image/png": "[encoded data removed]",
            "text/plain": [
              "<Figure size 432x432 with 1 Axes>"
            ]
          },
          "metadata": {
            "tags": [],
            "needs_background": "light"
          }
        }
      ]
    },
    {
      "cell_type": "markdown",
      "metadata": {
        "id": "iXNXknduT8w3"
      },
      "source": [
        "##### Reserved Room Type"
      ]
    },
    {
      "cell_type": "code",
      "metadata": {
        "colab": {
          "base_uri": "https://localhost:8080/",
          "height": 0
        },
        "id": "5K8ByIv3UA6R",
        "outputId": "95511a86-be1b-496f-c73d-800a2e93db48"
      },
      "source": [
        "print(pd.crosstab(hotelbookings.reserved_room_type,hotelbookings.is_canceled,margins=True,margins_name='Total'))\n",
        "\n",
        "print('*** plotting reserved room type and cancellation status')\n",
        "\n",
        "pd.crosstab(hotelbookings.reserved_room_type,hotelbookings.is_canceled).sort_values(by=1,ascending=False).plot(kind='bar',figsize=(6,6))\n",
        "plt.title('reserved room type vs cancellation status')\n",
        "plt.ylabel('count')\n",
        "plt.show()\n",
        "\n",
        "# most customers were of the room type A \n",
        "#room type had the highest number of cancellations as well as non cancellations\n",
        "\n",
        "#- there is a question on this\n",
        "#-how to get percentages"
      ],
      "execution_count": 40,
      "outputs": [
        {
          "output_type": "stream",
          "text": [
            "is_canceled             0      1   Total\n",
            "reserved_room_type                      \n",
            "A                   49018  31564   80582\n",
            "B                     727    345    1072\n",
            "C                     284    108     392\n",
            "D                   10020   4289   14309\n",
            "E                    3273   1136    4409\n",
            "F                     755    140     895\n",
            "G                     570    256     826\n",
            "H                     143     72     215\n",
            "L                       2      2       4\n",
            "Total               64792  37912  102704\n",
            "*** plotting reserved room type and cancellation status\n"
          ],
          "name": "stdout"
        },
        {
          "output_type": "display_data",
          "data": {
            "image/png": "[encoded data removed]",
            "text/plain": [
              "<Figure size 432x432 with 1 Axes>"
            ]
          },
          "metadata": {
            "tags": [],
            "needs_background": "light"
          }
        }
      ]
    },
    {
      "cell_type": "code",
      "metadata": {
        "colab": {
          "base_uri": "https://localhost:8080/",
          "height": 0
        },
        "id": "8lFCHO8JWERD",
        "outputId": "3e78b0aa-8340-4e1b-a453-ab010b07da24"
      },
      "source": [
        "print(pd.crosstab(notcancel.reserved_room_type,notcancel.is_canceled,margins=True,margins_name='Total'))\n",
        "\n",
        "pd.crosstab(notcancel.reserved_room_type,notcancel.is_canceled).sort_values(by=0, ascending=False).plot(kind='bar',figsize=(6,6))\n",
        "plt.title('reserved room type vs cancellation status')\n",
        "plt.ylabel('count')\n",
        "plt.show()"
      ],
      "execution_count": 41,
      "outputs": [
        {
          "output_type": "stream",
          "text": [
            "is_canceled             0  Total\n",
            "reserved_room_type              \n",
            "A                   52364  52364\n",
            "B                     750    750\n",
            "C                     624    624\n",
            "D                   13099  13099\n",
            "E                    4621   4621\n",
            "F                    2017   2017\n",
            "G                    1331   1331\n",
            "H                     356    356\n",
            "L                       4      4\n",
            "Total               75166  75166\n"
          ],
          "name": "stdout"
        },
        {
          "output_type": "display_data",
          "data": {
            "image/png": "[encoded data removed]",
            "text/plain": [
              "<Figure size 432x432 with 1 Axes>"
            ]
          },
          "metadata": {
            "tags": [],
            "needs_background": "light"
          }
        }
      ]
    },
    {
      "cell_type": "markdown",
      "metadata": {
        "id": "MSWiQ-aJaUBq"
      },
      "source": [
        "##### Deposit Type"
      ]
    },
    {
      "cell_type": "code",
      "metadata": {
        "id": "J-ivzVX-a9rc"
      },
      "source": [
        "#we will filter the dataset to have records of cancelled records\n",
        "cancelled=hotelbookings[hotelbookings['is_canceled']==1]"
      ],
      "execution_count": 42,
      "outputs": []
    },
    {
      "cell_type": "code",
      "metadata": {
        "colab": {
          "base_uri": "https://localhost:8080/",
          "height": 0
        },
        "id": "mMEMY40naXTv",
        "outputId": "2237f250-04a5-4b29-b84d-133a6537036b"
      },
      "source": [
        "print(pd.crosstab(hotelbookings.deposit_type,hotelbookings.is_canceled,margins=True,margins_name='Total'))\n",
        "\n",
        "print('*** plotting deposit type and cancellation status')\n",
        "\n",
        "pd.crosstab(hotelbookings.deposit_type,hotelbookings.is_canceled).sort_values(by=1,ascending=False).plot(kind='bar',figsize=(6,6))\n",
        "plt.title('deposit type by the customer vs cancellation status')\n",
        "plt.ylabel('count')\n",
        "plt.show()\n",
        "\n",
        "#most of the people who cancelled their bookings did not pay any deposit"
      ],
      "execution_count": 43,
      "outputs": [
        {
          "output_type": "stream",
          "text": [
            "is_canceled       0      1   Total\n",
            "deposit_type                      \n",
            "No Deposit    64575  24052   88627\n",
            "Non Refund       91  13831   13922\n",
            "Refundable      126     29     155\n",
            "Total         64792  37912  102704\n",
            "*** plotting deposit type and cancellation status\n"
          ],
          "name": "stdout"
        },
        {
          "output_type": "display_data",
          "data": {
            "image/png": "[encoded data removed]",
            "text/plain": [
              "<Figure size 432x432 with 1 Axes>"
            ]
          },
          "metadata": {
            "tags": [],
            "needs_background": "light"
          }
        }
      ]
    },
    {
      "cell_type": "code",
      "metadata": {
        "id": "yWhvOXghcDhB"
      },
      "source": [
        "#we can also want to see what type of deposit most foreigners paid\n",
        "foreigners=hotelbookings[hotelbookings['visitor_type']=='Foreign Visitor']"
      ],
      "execution_count": 44,
      "outputs": []
    },
    {
      "cell_type": "code",
      "metadata": {
        "colab": {
          "base_uri": "https://localhost:8080/",
          "height": 0
        },
        "id": "uMXO9tJcc91L",
        "outputId": "21747854-8e74-47d9-f4b7-665b773b2875"
      },
      "source": [
        "print(pd.crosstab(foreigners.deposit_type,foreigners.visitor_type,margins=True,margins_name='Total'))\n",
        "\n",
        "print('*** plotting deposit type and cancellation status')\n",
        "\n",
        "pd.crosstab(foreigners.deposit_type,foreigners.visitor_type).plot(kind='bar',figsize=(6,6))\n",
        "plt.title('deposit type by the customer vs cancellation status')\n",
        "plt.ylabel('count')\n",
        "plt.show()\n",
        "\n",
        "#most foreign customers did not pay any deposit"
      ],
      "execution_count": 45,
      "outputs": [
        {
          "output_type": "stream",
          "text": [
            "visitor_type  Foreign Visitor  Total\n",
            "deposit_type                        \n",
            "No Deposit              58393  58393\n",
            "Non Refund                387    387\n",
            "Refundable                110    110\n",
            "Total                   58890  58890\n",
            "*** plotting deposit type and cancellation status\n"
          ],
          "name": "stdout"
        },
        {
          "output_type": "display_data",
          "data": {
            "image/png": "[encoded data removed]",
            "text/plain": [
              "<Figure size 432x432 with 1 Axes>"
            ]
          },
          "metadata": {
            "tags": [],
            "needs_background": "light"
          }
        }
      ]
    },
    {
      "cell_type": "markdown",
      "metadata": {
        "id": "HuwesyUldnfb"
      },
      "source": [
        "## Multivariate Analysis"
      ]
    },
    {
      "cell_type": "code",
      "metadata": {
        "id": "B-D29J5ldrKo"
      },
      "source": [
        "#we will use LDa\n",
        "#this is because the type of regression we are tying to carry out in the study is a supervised regression model\n",
        "#LDA will help us know which features are best in explaining whether a booking will be cancelled or not#"
      ],
      "execution_count": 46,
      "outputs": []
    },
    {
      "cell_type": "code",
      "metadata": {
        "id": "R5s5gFSRd63W"
      },
      "source": [
        "#we will start by label encding some of the categorical columns\n",
        "le=LabelEncoder()\n",
        "hotelbookings['hotel']=le.fit_transform(hotelbookings['hotel'])\n",
        "hotelbookings['meal']=le.fit_transform(hotelbookings['meal'])\n",
        "hotelbookings['market_segment']=le.fit_transform(hotelbookings['market_segment'])\n",
        "hotelbookings['reserved_room_type']=le.fit_transform(hotelbookings['reserved_room_type'])\n",
        "hotelbookings['assigned_room_type']=le.fit_transform(hotelbookings['assigned_room_type'])\n",
        "hotelbookings['deposit_type']=le.fit_transform(hotelbookings['deposit_type'])\n",
        "hotelbookings['customer_type']=le.fit_transform(hotelbookings['customer_type'])\n",
        "hotelbookings['reservation_status']=le.fit_transform(hotelbookings['reservation_status'])\n",
        "hotelbookings['visitor_type']=le.fit_transform(hotelbookings['visitor_type'])\n",
        "hotelbookings['arrival_date_month']=le.fit_transform(hotelbookings['arrival_date_month'])\n",
        "hotelbookings['distribution_channel']=le.fit_transform(hotelbookings['distribution_channel'])\n"
      ],
      "execution_count": 47,
      "outputs": []
    },
    {
      "cell_type": "code",
      "metadata": {
        "id": "YQ1zTxuJ1NMG"
      },
      "source": [
        "\n",
        "#we will use minmax scaller on some of the numerical columns\n",
        "#rescale total visitor column\n",
        "mms=MinMaxScaler()\n",
        "tvisitor = hotelbookings['total_visitors'].values.reshape(-1, 1) #returns a numpy array\n",
        "tv_scalled = mms.fit_transform(tvisitor)\n",
        "hotelbookings['total_visitors'] = tv_scalled\n",
        "\n",
        "#rescale lead time\n",
        "ltime = hotelbookings['lead_time'].values.reshape(-1, 1) #returns a numpy array\n",
        "ltime_scalled = mms.fit_transform(ltime)\n",
        "hotelbookings['lead_time'] = tv_scalled"
      ],
      "execution_count": 48,
      "outputs": []
    },
    {
      "cell_type": "code",
      "metadata": {
        "id": "KXvMy9uZ5H4c"
      },
      "source": [
        "#defining our x and y variables\n",
        "X=hotelbookings.drop(['is_canceled','country','reservation_status_date'],axis=1)\n",
        "y=hotelbookings['is_canceled']"
      ],
      "execution_count": 59,
      "outputs": []
    },
    {
      "cell_type": "code",
      "metadata": {
        "colab": {
          "base_uri": "https://localhost:8080/"
        },
        "id": "ftNzx5gf5lzx",
        "outputId": "5280c826-5a17-427e-f169-615cdf985813"
      },
      "source": [
        "#We will pefrom LDA and get its results\n",
        "from sklearn.discriminant_analysis import LinearDiscriminantAnalysis as LDA\n",
        "lda=LDA()\n",
        "lda_=lda.fit(X,y)\n",
        "lda_x=lda_.transform(X)\n",
        "lda_.coef_"
      ],
      "execution_count": 60,
      "outputs": [
        {
          "output_type": "execute_result",
          "data": {
            "text/plain": [
              "array([[-6.78768024e-01,  6.28445073e-01,  2.32199298e-01,\n",
              "        -1.27788318e-02, -1.20471490e-03,  7.84933017e-03,\n",
              "         1.70688053e-01,  4.33778664e-02, -3.90991571e-02,\n",
              "         1.57388444e-02,  5.66465578e-01, -3.35470947e-01,\n",
              "        -6.06992900e-01,  1.15243700e-01, -5.66042451e-02,\n",
              "         2.27600888e-01, -2.04499620e-01, -1.71002710e-01,\n",
              "         1.55196351e+00, -3.73534441e-04, -4.46943817e-03,\n",
              "        -1.06717055e-01,  1.18872631e-03, -1.55644012e+00,\n",
              "        -4.75418061e-01, -2.31083888e+01,  2.13341033e-01,\n",
              "         6.28445073e-01,  5.03934525e-02,  2.38097280e+00]])"
            ]
          },
          "metadata": {
            "tags": []
          },
          "execution_count": 60
        }
      ]
    },
    {
      "cell_type": "code",
      "metadata": {
        "colab": {
          "base_uri": "https://localhost:8080/",
          "height": 979
        },
        "id": "hPecQdfZ6Zcz",
        "outputId": "149a57c7-537f-499d-af9c-555cd84b4528"
      },
      "source": [
        "#the reults are in array type\n",
        "#we will convert them into a dataframe\n",
        "result=pd.DataFrame(index=X.columns.values,data=lda_.coef_[0])\n",
        "result.rename(columns={0:'coefficients from LDA'},inplace=True)\n",
        "result.sort_values(by='coefficients from LDA',ascending=False)"
      ],
      "execution_count": 61,
      "outputs": [
        {
          "output_type": "execute_result",
          "data": {
            "text/html": [
              "<div>\n",
              "<style scoped>\n",
              "    .dataframe tbody tr th:only-of-type {\n",
              "        vertical-align: middle;\n",
              "    }\n",
              "\n",
              "    .dataframe tbody tr th {\n",
              "        vertical-align: top;\n",
              "    }\n",
              "\n",
              "    .dataframe thead th {\n",
              "        text-align: right;\n",
              "    }\n",
              "</style>\n",
              "<table border=\"1\" class=\"dataframe\">\n",
              "  <thead>\n",
              "    <tr style=\"text-align: right;\">\n",
              "      <th></th>\n",
              "      <th>coefficients from LDA</th>\n",
              "    </tr>\n",
              "  </thead>\n",
              "  <tbody>\n",
              "    <tr>\n",
              "      <th>visitor_type</th>\n",
              "      <td>2.380973</td>\n",
              "    </tr>\n",
              "    <tr>\n",
              "      <th>deposit_type</th>\n",
              "      <td>1.551964</td>\n",
              "    </tr>\n",
              "    <tr>\n",
              "      <th>lead_time</th>\n",
              "      <td>0.628445</td>\n",
              "    </tr>\n",
              "    <tr>\n",
              "      <th>total_visitors</th>\n",
              "      <td>0.628445</td>\n",
              "    </tr>\n",
              "    <tr>\n",
              "      <th>market_segment</th>\n",
              "      <td>0.566466</td>\n",
              "    </tr>\n",
              "    <tr>\n",
              "      <th>arrival_date_year</th>\n",
              "      <td>0.232199</td>\n",
              "    </tr>\n",
              "    <tr>\n",
              "      <th>reserved_room_type</th>\n",
              "      <td>0.227601</td>\n",
              "    </tr>\n",
              "    <tr>\n",
              "      <th>kids</th>\n",
              "      <td>0.213341</td>\n",
              "    </tr>\n",
              "    <tr>\n",
              "      <th>stays_in_weekend_nights</th>\n",
              "      <td>0.170688</td>\n",
              "    </tr>\n",
              "    <tr>\n",
              "      <th>previous_cancellations</th>\n",
              "      <td>0.115244</td>\n",
              "    </tr>\n",
              "    <tr>\n",
              "      <th>total_stays_in_nights</th>\n",
              "      <td>0.050393</td>\n",
              "    </tr>\n",
              "    <tr>\n",
              "      <th>stays_in_week_nights</th>\n",
              "      <td>0.043378</td>\n",
              "    </tr>\n",
              "    <tr>\n",
              "      <th>meal</th>\n",
              "      <td>0.015739</td>\n",
              "    </tr>\n",
              "    <tr>\n",
              "      <th>arrival_date_day_of_month</th>\n",
              "      <td>0.007849</td>\n",
              "    </tr>\n",
              "    <tr>\n",
              "      <th>price</th>\n",
              "      <td>0.001189</td>\n",
              "    </tr>\n",
              "    <tr>\n",
              "      <th>agent</th>\n",
              "      <td>-0.000374</td>\n",
              "    </tr>\n",
              "    <tr>\n",
              "      <th>arrival_date_week_number</th>\n",
              "      <td>-0.001205</td>\n",
              "    </tr>\n",
              "    <tr>\n",
              "      <th>days_in_waiting_list</th>\n",
              "      <td>-0.004469</td>\n",
              "    </tr>\n",
              "    <tr>\n",
              "      <th>arrival_date_month</th>\n",
              "      <td>-0.012779</td>\n",
              "    </tr>\n",
              "    <tr>\n",
              "      <th>adults</th>\n",
              "      <td>-0.039099</td>\n",
              "    </tr>\n",
              "    <tr>\n",
              "      <th>previous_bookings_not_canceled</th>\n",
              "      <td>-0.056604</td>\n",
              "    </tr>\n",
              "    <tr>\n",
              "      <th>customer_type</th>\n",
              "      <td>-0.106717</td>\n",
              "    </tr>\n",
              "    <tr>\n",
              "      <th>booking_changes</th>\n",
              "      <td>-0.171003</td>\n",
              "    </tr>\n",
              "    <tr>\n",
              "      <th>assigned_room_type</th>\n",
              "      <td>-0.204500</td>\n",
              "    </tr>\n",
              "    <tr>\n",
              "      <th>distribution_channel</th>\n",
              "      <td>-0.335471</td>\n",
              "    </tr>\n",
              "    <tr>\n",
              "      <th>total_of_special_requests</th>\n",
              "      <td>-0.475418</td>\n",
              "    </tr>\n",
              "    <tr>\n",
              "      <th>is_repeated_guest</th>\n",
              "      <td>-0.606993</td>\n",
              "    </tr>\n",
              "    <tr>\n",
              "      <th>hotel</th>\n",
              "      <td>-0.678768</td>\n",
              "    </tr>\n",
              "    <tr>\n",
              "      <th>required_car_parking_spaces</th>\n",
              "      <td>-1.556440</td>\n",
              "    </tr>\n",
              "    <tr>\n",
              "      <th>reservation_status</th>\n",
              "      <td>-23.108389</td>\n",
              "    </tr>\n",
              "  </tbody>\n",
              "</table>\n",
              "</div>"
            ],
            "text/plain": [
              "                                coefficients from LDA\n",
              "visitor_type                                 2.380973\n",
              "deposit_type                                 1.551964\n",
              "lead_time                                    0.628445\n",
              "total_visitors                               0.628445\n",
              "market_segment                               0.566466\n",
              "arrival_date_year                            0.232199\n",
              "reserved_room_type                           0.227601\n",
              "kids                                         0.213341\n",
              "stays_in_weekend_nights                      0.170688\n",
              "previous_cancellations                       0.115244\n",
              "total_stays_in_nights                        0.050393\n",
              "stays_in_week_nights                         0.043378\n",
              "meal                                         0.015739\n",
              "arrival_date_day_of_month                    0.007849\n",
              "price                                        0.001189\n",
              "agent                                       -0.000374\n",
              "arrival_date_week_number                    -0.001205\n",
              "days_in_waiting_list                        -0.004469\n",
              "arrival_date_month                          -0.012779\n",
              "adults                                      -0.039099\n",
              "previous_bookings_not_canceled              -0.056604\n",
              "customer_type                               -0.106717\n",
              "booking_changes                             -0.171003\n",
              "assigned_room_type                          -0.204500\n",
              "distribution_channel                        -0.335471\n",
              "total_of_special_requests                   -0.475418\n",
              "is_repeated_guest                           -0.606993\n",
              "hotel                                       -0.678768\n",
              "required_car_parking_spaces                 -1.556440\n",
              "reservation_status                         -23.108389"
            ]
          },
          "metadata": {
            "tags": []
          },
          "execution_count": 61
        }
      ]
    },
    {
      "cell_type": "markdown",
      "metadata": {
        "id": "C0xTYmkw9ktt"
      },
      "source": [
        "# Sampling"
      ]
    },
    {
      "cell_type": "code",
      "metadata": {
        "id": "JXZyUmbf9nPE"
      },
      "source": [
        "sample = hotelbookings.groupby('is_canceled', group_keys=False).apply(lambda grouped_subset : grouped_subset.sample(frac=0.1))"
      ],
      "execution_count": 64,
      "outputs": []
    },
    {
      "cell_type": "code",
      "metadata": {
        "colab": {
          "base_uri": "https://localhost:8080/"
        },
        "id": "nXGHfuEo91qT",
        "outputId": "ac267983-d875-49ac-8714-200a2603ddeb"
      },
      "source": [
        "sample.is_canceled.value_counts()"
      ],
      "execution_count": 65,
      "outputs": [
        {
          "output_type": "execute_result",
          "data": {
            "text/plain": [
              "0    6479\n",
              "1    3791\n",
              "Name: is_canceled, dtype: int64"
            ]
          },
          "metadata": {
            "tags": []
          },
          "execution_count": 65
        }
      ]
    },
    {
      "cell_type": "code",
      "metadata": {
        "colab": {
          "base_uri": "https://localhost:8080/"
        },
        "id": "K6ztIMTu-W0P",
        "outputId": "c8524b6c-6bad-4cf8-f613-660172a2e80e"
      },
      "source": [
        "hotelbookings.columns"
      ],
      "execution_count": 68,
      "outputs": [
        {
          "output_type": "execute_result",
          "data": {
            "text/plain": [
              "Index(['hotel', 'is_canceled', 'lead_time', 'arrival_date_year',\n",
              "       'arrival_date_month', 'arrival_date_week_number',\n",
              "       'arrival_date_day_of_month', 'stays_in_weekend_nights',\n",
              "       'stays_in_week_nights', 'adults', 'meal', 'country', 'market_segment',\n",
              "       'distribution_channel', 'is_repeated_guest', 'previous_cancellations',\n",
              "       'previous_bookings_not_canceled', 'reserved_room_type',\n",
              "       'assigned_room_type', 'booking_changes', 'deposit_type', 'agent',\n",
              "       'days_in_waiting_list', 'customer_type', 'price',\n",
              "       'required_car_parking_spaces', 'total_of_special_requests',\n",
              "       'reservation_status', 'reservation_status_date', 'kids',\n",
              "       'total_visitors', 'total_stays_in_nights', 'visitor_type'],\n",
              "      dtype='object')"
            ]
          },
          "metadata": {
            "tags": []
          },
          "execution_count": 68
        }
      ]
    },
    {
      "cell_type": "markdown",
      "metadata": {
        "id": "dvcxqJjy6vs0"
      },
      "source": [
        "# Logistic Regression"
      ]
    },
    {
      "cell_type": "code",
      "metadata": {
        "colab": {
          "base_uri": "https://localhost:8080/",
          "height": 609
        },
        "id": "landnpWa6y83",
        "outputId": "fc7ab082-cfa8-426c-9c74-608b747b196e"
      },
      "source": [
        "#Defining our new X variables\n",
        "X=sample[['visitor_type','price','arrival_date_month','deposit_type','lead_time','total_visitors','market_segment','reserved_room_type','previous_cancellations']].values\n",
        "y=sample[['is_canceled']].values\n",
        "\n",
        "#Train and test\n",
        "X_train, X_test, y_train, y_test=train_test_split(X,y,test_size=0.2,random_state=0)\n",
        "\n",
        "#calling the function\n",
        "le=LogisticRegression()\n",
        "le.fit(X_train, y_train)\n",
        "#predict\n",
        "y_pred=le.predict(X_test)\n",
        "#Compare and show\n",
        "comparison_frame = pd.DataFrame({'Actual': y_test.flatten(), 'Predicted': y_pred.flatten()})\n",
        "comparison_frame"
      ],
      "execution_count": 70,
      "outputs": [
        {
          "output_type": "stream",
          "text": [
            "/usr/local/lib/python3.7/dist-packages/sklearn/utils/validation.py:760: DataConversionWarning: A column-vector y was passed when a 1d array was expected. Please change the shape of y to (n_samples, ), for example using ravel().\n",
            "  y = column_or_1d(y, warn=True)\n",
            "/usr/local/lib/python3.7/dist-packages/sklearn/linear_model/_logistic.py:940: ConvergenceWarning: lbfgs failed to converge (status=1):\n",
            "STOP: TOTAL NO. of ITERATIONS REACHED LIMIT.\n",
            "\n",
            "Increase the number of iterations (max_iter) or scale the data as shown in:\n",
            "    https://scikit-learn.org/stable/modules/preprocessing.html\n",
            "Please also refer to the documentation for alternative solver options:\n",
            "    https://scikit-learn.org/stable/modules/linear_model.html#logistic-regression\n",
            "  extra_warning_msg=_LOGISTIC_SOLVER_CONVERGENCE_MSG)\n"
          ],
          "name": "stderr"
        },
        {
          "output_type": "execute_result",
          "data": {
            "text/html": [
              "<div>\n",
              "<style scoped>\n",
              "    .dataframe tbody tr th:only-of-type {\n",
              "        vertical-align: middle;\n",
              "    }\n",
              "\n",
              "    .dataframe tbody tr th {\n",
              "        vertical-align: top;\n",
              "    }\n",
              "\n",
              "    .dataframe thead th {\n",
              "        text-align: right;\n",
              "    }\n",
              "</style>\n",
              "<table border=\"1\" class=\"dataframe\">\n",
              "  <thead>\n",
              "    <tr style=\"text-align: right;\">\n",
              "      <th></th>\n",
              "      <th>Actual</th>\n",
              "      <th>Predicted</th>\n",
              "    </tr>\n",
              "  </thead>\n",
              "  <tbody>\n",
              "    <tr>\n",
              "      <th>0</th>\n",
              "      <td>0</td>\n",
              "      <td>0</td>\n",
              "    </tr>\n",
              "    <tr>\n",
              "      <th>1</th>\n",
              "      <td>0</td>\n",
              "      <td>0</td>\n",
              "    </tr>\n",
              "    <tr>\n",
              "      <th>2</th>\n",
              "      <td>1</td>\n",
              "      <td>0</td>\n",
              "    </tr>\n",
              "    <tr>\n",
              "      <th>3</th>\n",
              "      <td>1</td>\n",
              "      <td>1</td>\n",
              "    </tr>\n",
              "    <tr>\n",
              "      <th>4</th>\n",
              "      <td>0</td>\n",
              "      <td>0</td>\n",
              "    </tr>\n",
              "    <tr>\n",
              "      <th>...</th>\n",
              "      <td>...</td>\n",
              "      <td>...</td>\n",
              "    </tr>\n",
              "    <tr>\n",
              "      <th>2049</th>\n",
              "      <td>0</td>\n",
              "      <td>0</td>\n",
              "    </tr>\n",
              "    <tr>\n",
              "      <th>2050</th>\n",
              "      <td>0</td>\n",
              "      <td>0</td>\n",
              "    </tr>\n",
              "    <tr>\n",
              "      <th>2051</th>\n",
              "      <td>0</td>\n",
              "      <td>1</td>\n",
              "    </tr>\n",
              "    <tr>\n",
              "      <th>2052</th>\n",
              "      <td>0</td>\n",
              "      <td>0</td>\n",
              "    </tr>\n",
              "    <tr>\n",
              "      <th>2053</th>\n",
              "      <td>0</td>\n",
              "      <td>0</td>\n",
              "    </tr>\n",
              "  </tbody>\n",
              "</table>\n",
              "<p>2054 rows × 2 columns</p>\n",
              "</div>"
            ],
            "text/plain": [
              "      Actual  Predicted\n",
              "0          0          0\n",
              "1          0          0\n",
              "2          1          0\n",
              "3          1          1\n",
              "4          0          0\n",
              "...      ...        ...\n",
              "2049       0          0\n",
              "2050       0          0\n",
              "2051       0          1\n",
              "2052       0          0\n",
              "2053       0          0\n",
              "\n",
              "[2054 rows x 2 columns]"
            ]
          },
          "metadata": {
            "tags": []
          },
          "execution_count": 70
        }
      ]
    },
    {
      "cell_type": "code",
      "metadata": {
        "colab": {
          "base_uri": "https://localhost:8080/"
        },
        "id": "73wJLL_O-GdZ",
        "outputId": "70a19638-f19c-424a-d03f-47d6fae06304"
      },
      "source": [
        "#Evaluate the performance of the model\n",
        "score_metric=le.score(X_test,y_test)\n",
        "print('Model Accuracy: %.2f%%' %(score_metric*100) )\n",
        "\n",
        "print('********')\n",
        "confusionMatrix=confusion_matrix(y_test,y_pred)\n",
        "confusionMatrix"
      ],
      "execution_count": 71,
      "outputs": [
        {
          "output_type": "stream",
          "text": [
            "Model Accuracy: 75.90%\n",
            "********\n"
          ],
          "name": "stdout"
        },
        {
          "output_type": "execute_result",
          "data": {
            "text/plain": [
              "array([[1167,   97],\n",
              "       [ 398,  392]])"
            ]
          },
          "metadata": {
            "tags": []
          },
          "execution_count": 71
        }
      ]
    }
  ]
}